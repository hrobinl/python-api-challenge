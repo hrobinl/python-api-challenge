{
 "cells": [
  {
   "cell_type": "markdown",
   "metadata": {},
   "source": [
    "# VacationPy\n",
    "---\n",
    "\n",
    "## Starter Code to Import Libraries and Load the Weather and Coordinates Data:"
   ]
  },
  {
   "cell_type": "code",
   "execution_count": 2,
   "metadata": {},
   "outputs": [
    {
     "ename": "ModuleNotFoundError",
     "evalue": "No module named 'hvplot'",
     "output_type": "error",
     "traceback": [
      "\u001b[0;31m---------------------------------------------------------------------------\u001b[0m",
      "\u001b[0;31mModuleNotFoundError\u001b[0m                       Traceback (most recent call last)",
      "Cell \u001b[0;32mIn[2], line 2\u001b[0m\n\u001b[1;32m      1\u001b[0m \u001b[39m#Dependencies and Setup:\u001b[39;00m\n\u001b[0;32m----> 2\u001b[0m \u001b[39mimport\u001b[39;00m \u001b[39mhvplot\u001b[39;00m\u001b[39m.\u001b[39;00m\u001b[39mpandas\u001b[39;00m\n\u001b[1;32m      3\u001b[0m \u001b[39mimport\u001b[39;00m \u001b[39mpandas\u001b[39;00m \u001b[39mas\u001b[39;00m \u001b[39mpd\u001b[39;00m\n\u001b[1;32m      4\u001b[0m \u001b[39mimport\u001b[39;00m \u001b[39mrequests\u001b[39;00m\n",
      "\u001b[0;31mModuleNotFoundError\u001b[0m: No module named 'hvplot'"
     ]
    }
   ],
   "source": [
    "#Dependencies and Setup:\n",
    "import hvplot.pandas\n",
    "import pandas as pd\n",
    "import requests\n",
    "\n",
    "#Import API key:\n",
    "from api_keys import geoapify_key"
   ]
  },
  {
   "cell_type": "code",
   "execution_count": null,
   "metadata": {},
   "outputs": [
    {
     "data": {
      "text/html": [
       "<div>\n",
       "<style scoped>\n",
       "    .dataframe tbody tr th:only-of-type {\n",
       "        vertical-align: middle;\n",
       "    }\n",
       "\n",
       "    .dataframe tbody tr th {\n",
       "        vertical-align: top;\n",
       "    }\n",
       "\n",
       "    .dataframe thead th {\n",
       "        text-align: right;\n",
       "    }\n",
       "</style>\n",
       "<table border=\"1\" class=\"dataframe\">\n",
       "  <thead>\n",
       "    <tr style=\"text-align: right;\">\n",
       "      <th></th>\n",
       "      <th>City_ID</th>\n",
       "      <th>City</th>\n",
       "      <th>Lat</th>\n",
       "      <th>Lng</th>\n",
       "      <th>Max Temp</th>\n",
       "      <th>Humidity</th>\n",
       "      <th>Cloudiness</th>\n",
       "      <th>Wind Speed</th>\n",
       "      <th>Country</th>\n",
       "      <th>Date</th>\n",
       "    </tr>\n",
       "  </thead>\n",
       "  <tbody>\n",
       "    <tr>\n",
       "      <th>0</th>\n",
       "      <td>0</td>\n",
       "      <td>hawaiian paradise park</td>\n",
       "      <td>19.5933</td>\n",
       "      <td>-154.9731</td>\n",
       "      <td>300.88</td>\n",
       "      <td>82</td>\n",
       "      <td>100</td>\n",
       "      <td>4.12</td>\n",
       "      <td>US</td>\n",
       "      <td>1690159199</td>\n",
       "    </tr>\n",
       "    <tr>\n",
       "      <th>1</th>\n",
       "      <td>1</td>\n",
       "      <td>pisco</td>\n",
       "      <td>-13.7000</td>\n",
       "      <td>-76.2167</td>\n",
       "      <td>294.18</td>\n",
       "      <td>68</td>\n",
       "      <td>100</td>\n",
       "      <td>5.14</td>\n",
       "      <td>PE</td>\n",
       "      <td>1690159204</td>\n",
       "    </tr>\n",
       "    <tr>\n",
       "      <th>2</th>\n",
       "      <td>2</td>\n",
       "      <td>puerto natales</td>\n",
       "      <td>-51.7236</td>\n",
       "      <td>-72.4875</td>\n",
       "      <td>268.94</td>\n",
       "      <td>92</td>\n",
       "      <td>15</td>\n",
       "      <td>1.49</td>\n",
       "      <td>CL</td>\n",
       "      <td>1690159205</td>\n",
       "    </tr>\n",
       "    <tr>\n",
       "      <th>3</th>\n",
       "      <td>3</td>\n",
       "      <td>invercargill</td>\n",
       "      <td>-46.4000</td>\n",
       "      <td>168.3500</td>\n",
       "      <td>282.98</td>\n",
       "      <td>88</td>\n",
       "      <td>96</td>\n",
       "      <td>0.11</td>\n",
       "      <td>NZ</td>\n",
       "      <td>1690159205</td>\n",
       "    </tr>\n",
       "    <tr>\n",
       "      <th>4</th>\n",
       "      <td>4</td>\n",
       "      <td>sandnessjoen</td>\n",
       "      <td>66.0217</td>\n",
       "      <td>12.6316</td>\n",
       "      <td>284.44</td>\n",
       "      <td>95</td>\n",
       "      <td>100</td>\n",
       "      <td>1.40</td>\n",
       "      <td>NO</td>\n",
       "      <td>1690159205</td>\n",
       "    </tr>\n",
       "  </tbody>\n",
       "</table>\n",
       "</div>"
      ],
      "text/plain": [
       "   City_ID                    City      Lat       Lng  Max Temp  Humidity  \\\n",
       "0        0  hawaiian paradise park  19.5933 -154.9731    300.88        82   \n",
       "1        1                   pisco -13.7000  -76.2167    294.18        68   \n",
       "2        2          puerto natales -51.7236  -72.4875    268.94        92   \n",
       "3        3            invercargill -46.4000  168.3500    282.98        88   \n",
       "4        4            sandnessjoen  66.0217   12.6316    284.44        95   \n",
       "\n",
       "   Cloudiness  Wind Speed Country        Date  \n",
       "0         100        4.12      US  1690159199  \n",
       "1         100        5.14      PE  1690159204  \n",
       "2          15        1.49      CL  1690159205  \n",
       "3          96        0.11      NZ  1690159205  \n",
       "4         100        1.40      NO  1690159205  "
      ]
     },
     "execution_count": 2,
     "metadata": {},
     "output_type": "execute_result"
    }
   ],
   "source": [
    "#Load the CSV file created in Part 1 into a Pandas DataFrame:\n",
    "city_data_df = pd.read_csv(\"Output_Data/cities.csv\")\n",
    "\n",
    "#Display sample data:\n",
    "city_data_df.head()"
   ]
  },
  {
   "cell_type": "markdown",
   "metadata": {},
   "source": [
    "---\n",
    "\n",
    "### Step 1: Create a map that displays a point for every city in the `city_data_df` DataFrame. The size of the point should be the humidity in each city:"
   ]
  },
  {
   "cell_type": "code",
   "execution_count": null,
   "metadata": {},
   "outputs": [
    {
     "data": {},
     "metadata": {},
     "output_type": "display_data"
    },
    {
     "data": {
      "application/vnd.holoviews_exec.v0+json": "",
      "text/html": [
       "<div id='p1005'>\n",
       "  <div id=\"fb402e53-329d-4e4d-ae73-da8dcf54af77\" data-root-id=\"p1005\" style=\"display: contents;\"></div>\n",
       "</div>\n",
       "<script type=\"application/javascript\">(function(root) {\n",
       "  var docs_json = {\"bb045cb8-3718-48d9-8864-b66b165f1989\":{\"version\":\"3.1.1\",\"title\":\"Bokeh Application\",\"defs\":[{\"type\":\"model\",\"name\":\"ReactiveHTML1\"},{\"type\":\"model\",\"name\":\"FlexBox1\",\"properties\":[{\"name\":\"align_content\",\"kind\":\"Any\",\"default\":\"flex-start\"},{\"name\":\"align_items\",\"kind\":\"Any\",\"default\":\"flex-start\"},{\"name\":\"flex_direction\",\"kind\":\"Any\",\"default\":\"row\"},{\"name\":\"flex_wrap\",\"kind\":\"Any\",\"default\":\"wrap\"},{\"name\":\"justify_content\",\"kind\":\"Any\",\"default\":\"flex-start\"}]},{\"type\":\"model\",\"name\":\"FloatPanel1\",\"properties\":[{\"name\":\"config\",\"kind\":\"Any\",\"default\":{\"type\":\"map\"}},{\"name\":\"contained\",\"kind\":\"Any\",\"default\":true},{\"name\":\"position\",\"kind\":\"Any\",\"default\":\"right-top\"},{\"name\":\"offsetx\",\"kind\":\"Any\",\"default\":null},{\"name\":\"offsety\",\"kind\":\"Any\",\"default\":null},{\"name\":\"theme\",\"kind\":\"Any\",\"default\":\"primary\"},{\"name\":\"status\",\"kind\":\"Any\",\"default\":\"normalized\"}]},{\"type\":\"model\",\"name\":\"GridStack1\",\"properties\":[{\"name\":\"mode\",\"kind\":\"Any\",\"default\":\"warn\"},{\"name\":\"ncols\",\"kind\":\"Any\",\"default\":null},{\"name\":\"nrows\",\"kind\":\"Any\",\"default\":null},{\"name\":\"allow_resize\",\"kind\":\"Any\",\"default\":true},{\"name\":\"allow_drag\",\"kind\":\"Any\",\"default\":true},{\"name\":\"state\",\"kind\":\"Any\",\"default\":[]}]},{\"type\":\"model\",\"name\":\"drag1\",\"properties\":[{\"name\":\"slider_width\",\"kind\":\"Any\",\"default\":5},{\"name\":\"slider_color\",\"kind\":\"Any\",\"default\":\"black\"},{\"name\":\"value\",\"kind\":\"Any\",\"default\":50}]},{\"type\":\"model\",\"name\":\"click1\",\"properties\":[{\"name\":\"terminal_output\",\"kind\":\"Any\",\"default\":\"\"},{\"name\":\"debug_name\",\"kind\":\"Any\",\"default\":\"\"},{\"name\":\"clears\",\"kind\":\"Any\",\"default\":0}]},{\"type\":\"model\",\"name\":\"FastWrapper1\",\"properties\":[{\"name\":\"object\",\"kind\":\"Any\",\"default\":null},{\"name\":\"style\",\"kind\":\"Any\",\"default\":null}]},{\"type\":\"model\",\"name\":\"NotificationAreaBase1\",\"properties\":[{\"name\":\"position\",\"kind\":\"Any\",\"default\":\"bottom-right\"},{\"name\":\"_clear\",\"kind\":\"Any\",\"default\":0}]},{\"type\":\"model\",\"name\":\"NotificationArea1\",\"properties\":[{\"name\":\"notifications\",\"kind\":\"Any\",\"default\":[]},{\"name\":\"position\",\"kind\":\"Any\",\"default\":\"bottom-right\"},{\"name\":\"_clear\",\"kind\":\"Any\",\"default\":0},{\"name\":\"types\",\"kind\":\"Any\",\"default\":[{\"type\":\"map\",\"entries\":[[\"type\",\"warning\"],[\"background\",\"#ffc107\"],[\"icon\",{\"type\":\"map\",\"entries\":[[\"className\",\"fas fa-exclamation-triangle\"],[\"tagName\",\"i\"],[\"color\",\"white\"]]}]]},{\"type\":\"map\",\"entries\":[[\"type\",\"info\"],[\"background\",\"#007bff\"],[\"icon\",{\"type\":\"map\",\"entries\":[[\"className\",\"fas fa-info-circle\"],[\"tagName\",\"i\"],[\"color\",\"white\"]]}]]}]}]},{\"type\":\"model\",\"name\":\"Notification\",\"properties\":[{\"name\":\"background\",\"kind\":\"Any\",\"default\":null},{\"name\":\"duration\",\"kind\":\"Any\",\"default\":3000},{\"name\":\"icon\",\"kind\":\"Any\",\"default\":null},{\"name\":\"message\",\"kind\":\"Any\",\"default\":\"\"},{\"name\":\"notification_type\",\"kind\":\"Any\",\"default\":null},{\"name\":\"_destroyed\",\"kind\":\"Any\",\"default\":false}]},{\"type\":\"model\",\"name\":\"TemplateActions1\",\"properties\":[{\"name\":\"open_modal\",\"kind\":\"Any\",\"default\":0},{\"name\":\"close_modal\",\"kind\":\"Any\",\"default\":0}]},{\"type\":\"model\",\"name\":\"BootstrapTemplateActions1\",\"properties\":[{\"name\":\"open_modal\",\"kind\":\"Any\",\"default\":0},{\"name\":\"close_modal\",\"kind\":\"Any\",\"default\":0}]},{\"type\":\"model\",\"name\":\"MaterialTemplateActions1\",\"properties\":[{\"name\":\"open_modal\",\"kind\":\"Any\",\"default\":0},{\"name\":\"close_modal\",\"kind\":\"Any\",\"default\":0}]}],\"roots\":[{\"type\":\"object\",\"name\":\"Row\",\"id\":\"p1005\",\"attributes\":{\"name\":\"Row01558\",\"tags\":[\"embedded\"],\"stylesheets\":[\"\\n:host(.pn-loading.pn-arc):before, .pn-loading.pn-arc:before {\\n  background-image: url(\\\"data:image/svg+xml;base64,PHN2ZyB4bWxucz0iaHR0cDovL3d3dy53My5vcmcvMjAwMC9zdmciIHN0eWxlPSJtYXJnaW46IGF1dG87IGJhY2tncm91bmQ6IG5vbmU7IGRpc3BsYXk6IGJsb2NrOyBzaGFwZS1yZW5kZXJpbmc6IGF1dG87IiB2aWV3Qm94PSIwIDAgMTAwIDEwMCIgcHJlc2VydmVBc3BlY3RSYXRpbz0ieE1pZFlNaWQiPiAgPGNpcmNsZSBjeD0iNTAiIGN5PSI1MCIgZmlsbD0ibm9uZSIgc3Ryb2tlPSIjYzNjM2MzIiBzdHJva2Utd2lkdGg9IjEwIiByPSIzNSIgc3Ryb2tlLWRhc2hhcnJheT0iMTY0LjkzMzYxNDMxMzQ2NDE1IDU2Ljk3Nzg3MTQzNzgyMTM4Ij4gICAgPGFuaW1hdGVUcmFuc2Zvcm0gYXR0cmlidXRlTmFtZT0idHJhbnNmb3JtIiB0eXBlPSJyb3RhdGUiIHJlcGVhdENvdW50PSJpbmRlZmluaXRlIiBkdXI9IjFzIiB2YWx1ZXM9IjAgNTAgNTA7MzYwIDUwIDUwIiBrZXlUaW1lcz0iMDsxIj48L2FuaW1hdGVUcmFuc2Zvcm0+ICA8L2NpcmNsZT48L3N2Zz4=\\\");\\n  background-size: auto calc(min(50%, 400px));\\n}\",{\"type\":\"object\",\"name\":\"ImportedStyleSheet\",\"id\":\"p1008\",\"attributes\":{\"url\":\"https://cdn.holoviz.org/panel/1.1.0/dist/css/loading.css\"}},{\"type\":\"object\",\"name\":\"ImportedStyleSheet\",\"id\":\"p1135\",\"attributes\":{\"url\":\"https://cdn.holoviz.org/panel/1.1.0/dist/css/listpanel.css\"}},{\"type\":\"object\",\"name\":\"ImportedStyleSheet\",\"id\":\"p1006\",\"attributes\":{\"url\":\"https://cdn.holoviz.org/panel/1.1.0/dist/bundled/theme/default.css\"}},{\"type\":\"object\",\"name\":\"ImportedStyleSheet\",\"id\":\"p1007\",\"attributes\":{\"url\":\"https://cdn.holoviz.org/panel/1.1.0/dist/bundled/theme/native.css\"}}],\"margin\":0,\"sizing_mode\":\"stretch_width\",\"align\":\"start\",\"children\":[{\"type\":\"object\",\"name\":\"Spacer\",\"id\":\"p1009\",\"attributes\":{\"name\":\"HSpacer01568\",\"stylesheets\":[\"\\n:host(.pn-loading.pn-arc):before, .pn-loading.pn-arc:before {\\n  background-image: url(\\\"data:image/svg+xml;base64,PHN2ZyB4bWxucz0iaHR0cDovL3d3dy53My5vcmcvMjAwMC9zdmciIHN0eWxlPSJtYXJnaW46IGF1dG87IGJhY2tncm91bmQ6IG5vbmU7IGRpc3BsYXk6IGJsb2NrOyBzaGFwZS1yZW5kZXJpbmc6IGF1dG87IiB2aWV3Qm94PSIwIDAgMTAwIDEwMCIgcHJlc2VydmVBc3BlY3RSYXRpbz0ieE1pZFlNaWQiPiAgPGNpcmNsZSBjeD0iNTAiIGN5PSI1MCIgZmlsbD0ibm9uZSIgc3Ryb2tlPSIjYzNjM2MzIiBzdHJva2Utd2lkdGg9IjEwIiByPSIzNSIgc3Ryb2tlLWRhc2hhcnJheT0iMTY0LjkzMzYxNDMxMzQ2NDE1IDU2Ljk3Nzg3MTQzNzgyMTM4Ij4gICAgPGFuaW1hdGVUcmFuc2Zvcm0gYXR0cmlidXRlTmFtZT0idHJhbnNmb3JtIiB0eXBlPSJyb3RhdGUiIHJlcGVhdENvdW50PSJpbmRlZmluaXRlIiBkdXI9IjFzIiB2YWx1ZXM9IjAgNTAgNTA7MzYwIDUwIDUwIiBrZXlUaW1lcz0iMDsxIj48L2FuaW1hdGVUcmFuc2Zvcm0+ICA8L2NpcmNsZT48L3N2Zz4=\\\");\\n  background-size: auto calc(min(50%, 400px));\\n}\",{\"id\":\"p1008\"},{\"id\":\"p1006\"},{\"id\":\"p1007\"}],\"margin\":0,\"sizing_mode\":\"stretch_width\",\"align\":\"start\"}},{\"type\":\"object\",\"name\":\"Figure\",\"id\":\"p1023\",\"attributes\":{\"width\":null,\"height\":null,\"margin\":[5,10],\"sizing_mode\":\"fixed\",\"align\":\"start\",\"x_range\":{\"type\":\"object\",\"name\":\"Range1d\",\"id\":\"p1016\",\"attributes\":{\"tags\":[[[\"Lng\",\"Lng\",null]]],\"start\":-22473812.400082186,\"end\":22634613.404533062,\"reset_start\":-22473812.400082186,\"reset_end\":22634613.404533062,\"min_interval\":5}},\"y_range\":{\"type\":\"object\",\"name\":\"Range1d\",\"id\":\"p1017\",\"attributes\":{\"tags\":[[[\"Lat\",\"Lat\",null]]],\"start\":-12528330.553479139,\"end\":19691973.59267461,\"reset_start\":-12528330.553479139,\"reset_end\":19691973.59267461,\"min_interval\":5}},\"x_scale\":{\"type\":\"object\",\"name\":\"LinearScale\",\"id\":\"p1035\"},\"y_scale\":{\"type\":\"object\",\"name\":\"LinearScale\",\"id\":\"p1037\"},\"title\":{\"type\":\"object\",\"name\":\"Title\",\"id\":\"p1026\",\"attributes\":{\"text_color\":\"black\",\"text_font_size\":\"12pt\"}},\"renderers\":[{\"type\":\"object\",\"name\":\"TileRenderer\",\"id\":\"p1098\",\"attributes\":{\"level\":\"glyph\",\"tile_source\":{\"type\":\"object\",\"name\":\"WMTSTileSource\",\"id\":\"p1093\",\"attributes\":{\"url\":\"https://c.tile.openstreetmap.org/{Z}/{X}/{Y}.png\",\"attribution\":\"&copy; <a href=\\\"https://www.openstreetmap.org/copyright\\\">OpenStreetMap</a> contributors\"}}}},{\"type\":\"object\",\"name\":\"GlyphRenderer\",\"id\":\"p1113\",\"attributes\":{\"data_source\":{\"type\":\"object\",\"name\":\"ColumnDataSource\",\"id\":\"p1101\",\"attributes\":{\"selected\":{\"type\":\"object\",\"name\":\"Selection\",\"id\":\"p1102\",\"attributes\":{\"indices\":[],\"line_indices\":[]}},\"selection_policy\":{\"type\":\"object\",\"name\":\"UnionRenderers\",\"id\":\"p1103\"},\"data\":{\"type\":\"map\",\"entries\":[[\"Lng\",{\"type\":\"ndarray\",\"array\":{\"type\":\"bytes\",\"data\":\"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\"},\"shape\":[565],\"dtype\":\"float64\",\"order\":\"little\"}],[\"Lat\",{\"type\":\"ndarray\",\"array\":{\"type\":\"bytes\",\"data\":\"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\"},\"shape\":[565],\"dtype\":\"float64\",\"order\":\"little\"}],[\"City\",{\"type\":\"ndarray\",\"array\":[\"hawaiian paradise park\",\"pisco\",\"puerto natales\",\"invercargill\",\"sandnessjoen\",\"albany\",\"mount pearl\",\"patong\",\"pamandzi\",\"souillac\",\"blackmans bay\",\"narrabri\",\"puerto ayora\",\"whitehorse\",\"bredasdorp\",\"adamstown\",\"nyeri\",\"iskateley\",\"tungao\",\"port alfred\",\"rongelap\",\"hithadhoo\",\"lorengau\",\"hermanus\",\"lihue\",\"port macquarie\",\"port-aux-francais\",\"port mathurin\",\"acarau\",\"thinadhoo\",\"chonchi\",\"ust-nera\",\"jais\",\"ushuaia\",\"sinabang\",\"tiksi\",\"waitangi\",\"carnarvon\",\"saint-denis\",\"guaratinga\",\"hiratacho\",\"east london\",\"west island\",\"pandan\",\"altai\",\"general acha\",\"mazagao\",\"wailua homesteads\",\"badger\",\"dudinka\",\"dwarka\",\"la passe\",\"antsiranana\",\"parauapebas\",\"vernon\",\"atafu village\",\"iqaluit\",\"ploudalmezeau\",\"cockburn town\",\"tangalle\",\"grytviken\",\"olonkinbyen\",\"edinburgh of the seven seas\",\"borzna\",\"broken hill\",\"khulm\",\"longyearbyen\",\"fortuna\",\"bodo\",\"anadyr\",\"bandar-e genaveh\",\"summerside\",\"nova sintra\",\"adiake\",\"daru\",\"nishinoomote\",\"yellowknife\",\"hamilton\",\"springbok\",\"thompson\",\"tura\",\"freetown\",\"vilyuchinsk\",\"ilulissat\",\"nhlangano\",\"uttarkashi\",\"tocopilla\",\"coquimbo\",\"bereznik\",\"tazovsky\",\"harper\",\"udachny\",\"forest grove\",\"isafjordur\",\"bilibino\",\"madisonville\",\"zholymbet\",\"batalha\",\"den burg\",\"kandalaksha\",\"mkushi\",\"saldanha\",\"utrik\",\"kavaratti\",\"papatowai\",\"nuuk\",\"keflavik\",\"kodiak\",\"antigonish\",\"white river\",\"minas de marcona\",\"as sulayyil\",\"jamestown\",\"avarua\",\"archangelos\",\"holualoa\",\"coahuayana de hidalgo\",\"lhuentse\",\"grand-lahou\",\"rawson\",\"contamana\",\"woodlake\",\"kerikeri\",\"mahina\",\"san luis de la loma\",\"caetite\",\"santa elena de uairen\",\"bethel\",\"lompoc\",\"tsiombe\",\"constantia\",\"ola\",\"yarmouth\",\"georgetown\",\"hinton\",\"vila franca do campo\",\"saint albans\",\"qaqortoq\",\"khawr fakkan\",\"tadine\",\"college\",\"atherton\",\"afaahiti\",\"vorgashor\",\"balcarce\",\"monterey\",\"aasiaat\",\"fale old settlement\",\"nguigmi\",\"ancud\",\"amga\",\"napili-honokowai\",\"tabou\",\"mikulov\",\"kingston\",\"kangding\",\"weno\",\"tarawa\",\"stanley\",\"swakopmund\",\"shar\",\"taltal\",\"praia da vitoria\",\"chiredzi\",\"atbara\",\"luanda\",\"lebu\",\"sodra sandby\",\"mount isa\",\"klaksvik\",\"guadalupe y calvo\",\"kununurra\",\"januaria\",\"shahabad\",\"bonyhad\",\"plymouth\",\"yangambi\",\"pacific grove\",\"santa marta\",\"badamdar\",\"novodvinsk\",\"margaret river\",\"hastings\",\"yamada\",\"guiuan\",\"lu-uk\",\"yinchuan\",\"alofi\",\"howrah\",\"parnarama\",\"buta\",\"sabang\",\"axim\",\"dubbo\",\"villa emilio carranza\",\"niigata\",\"tamanrasset\",\"talnakh\",\"severo-yeniseyskiy\",\"happy valley-goose bay\",\"vadso\",\"qa'en\",\"sarandi del yi\",\"ipira\",\"hengchun\",\"priozersk\",\"katsuura\",\"chagny\",\"nova vicosa\",\"ribeira grande\",\"barcelos\",\"yaren\",\"pimentel\",\"nogliki\",\"sacaba\",\"geraldton\",\"jaisalmer\",\"amplepuis\",\"inhambane\",\"gadzhiyevo\",\"pucheng\",\"naze\",\"usogorsk\",\"turinsk\",\"horsham\",\"kabo\",\"halifax\",\"sarpsborg\",\"tianpeng\",\"merizo village\",\"pitimbu\",\"acapulco de juarez\",\"silver city\",\"temiskaming shores\",\"alice springs\",\"kilindoni\",\"codrington\",\"haifa\",\"kon tum\",\"antofagasta\",\"gospic\",\"tazacorte\",\"maua\",\"guerrero negro\",\"george town\",\"zakamensk\",\"lewiston orchards\",\"mantua\",\"sherbrooke\",\"cabo san lucas\",\"lerwick\",\"sungailiat\",\"arraial do cabo\",\"saipan\",\"ta`u\",\"tobelo\",\"baihe\",\"uturoa\",\"tolanaro\",\"susuman\",\"abepura\",\"chos malal\",\"al jawf\",\"iaciara\",\"carrizo springs\",\"mar del plata\",\"mohr\",\"las khorey\",\"port augusta\",\"jayanca\",\"lagoa\",\"chernyshevskiy\",\"dunedin\",\"sola\",\"rio grande\",\"havre\",\"bubaque\",\"san jose de jachal\",\"igarka\",\"khorinsk\",\"illela\",\"labrador city\",\"caibarien\",\"kolonia town\",\"pelabuhanratu\",\"brookings\",\"port douglas\",\"bom jardim\",\"rocha\",\"isangel\",\"kone\",\"fort bragg\",\"kapuskasing\",\"lucapa\",\"vennesla\",\"jayapura\",\"saint john's\",\"betio village\",\"batang\",\"arauca\",\"prince george\",\"miquelon\",\"el granada\",\"urucara\",\"ulladulla\",\"port elizabeth\",\"nemuro\",\"yuzhno-kurilsk\",\"puerto lempira\",\"san pedro pochutla\",\"magadan\",\"jendouba\",\"djenne\",\"puerto baquerizo moreno\",\"peterhead\",\"byron bay\",\"at taj\",\"sainte-adresse\",\"madang\",\"tralee\",\"troitsko-pechorsk\",\"belomorsk\",\"st. john's\",\"leninskoye\",\"enewetak\",\"ylitornio\",\"kuanda\",\"fisterra\",\"lauro de freitas\",\"egilsstadir\",\"kiunga\",\"al ghayzah\",\"ternate\",\"bikenibeu village\",\"hasaki\",\"tual\",\"petropavlovsk-kamchatsky\",\"al bawiti\",\"papao\",\"mariental\",\"fort st. john\",\"ghazni\",\"acajutla\",\"kirensk\",\"seme\",\"mikhaylovsk\",\"chibougamau\",\"el calafate\",\"morehead city\",\"zaozersk\",\"kingscliff\",\"namibe\",\"fort abbas\",\"poronaysk\",\"madimba\",\"dahlonega\",\"palmer\",\"christchurch\",\"kenai\",\"lagos\",\"griffith\",\"laguna\",\"silver springs\",\"dazhou\",\"hammerfest\",\"bonito\",\"santa luzia\",\"klyuchi\",\"bam\",\"remire-montjoly\",\"ad dabbah\",\"panguipulli\",\"le port\",\"berdigestyakh\",\"itamaraca\",\"vanimo\",\"balkanabat\",\"flying fish cove\",\"yorkton\",\"caernarfon\",\"lata\",\"coruripe\",\"punta arenas\",\"cidreira\",\"al khawr\",\"ostersund\",\"uyuni\",\"colonia\",\"homer\",\"arkhangel'sk\",\"sherbakul'\",\"peterborough\",\"brisas de zicatela\",\"bijie\",\"jalgaon\",\"gazojak\",\"tarutyne\",\"khandyga\",\"tidjikja\",\"gisborne\",\"west plains\",\"prado\",\"tayu\",\"bandon\",\"pingliang\",\"nar'yan-mar\",\"matola\",\"brisas barra de suchiate\",\"general conesa\",\"kalmunai\",\"cadale\",\"port lincoln\",\"montelibano\",\"kudahuvadhoo\",\"ouesso\",\"nagqu\",\"endasak\",\"champerico\",\"frontera\",\"kaa-khem\",\"zouerate\",\"par naogaon\",\"coxim\",\"anloga\",\"choyr\",\"mbandaka\",\"cafayate\",\"sault ste. marie\",\"ntungamo\",\"muravlenko\",\"navasota\",\"santiago de cao\",\"mount gambier\",\"haiku-pauwela\",\"port-vila\",\"amasra\",\"ilha solteira\",\"altinekin\",\"kzyltu\",\"salekhard\",\"tanout\",\"sierra grande\",\"bogo\",\"gobabis\",\"richards bay\",\"surami\",\"khanty-mansiysk\",\"portland\",\"mezapa\",\"camana\",\"nizhniy ingash\",\"medjez el bab\",\"luderitz\",\"usinsk\",\"thakhek\",\"darazo\",\"dieppe\",\"ramblewood\",\"nadi\",\"gambiran satu\",\"kavieng\",\"touros\",\"queenstown\",\"chashniki\",\"washington\",\"darwin\",\"ozerne\",\"alapayevsk\",\"alesund\",\"ibirama\",\"yeniseysk\",\"korla\",\"saint augustine beach\",\"kabare\",\"cabedelo\",\"sao gabriel da cachoeira\",\"tabas\",\"hilo\",\"del rio\",\"peno\",\"rehoboth\",\"longboat key\",\"namtsy\",\"pachora\",\"mumbwa\",\"akureyri\",\"beacon square\",\"corinto\",\"hirara\",\"tsengel\",\"turkmenbasy\",\"sisimiut\",\"kuna\",\"whakatane\",\"khost\",\"beinamar\",\"bonthe\",\"okhotsk\",\"caleta de carquin\",\"tomelloso\",\"raduzhny\",\"smithers\",\"bhim tal\",\"tucuma\",\"bayanhongor\",\"yar\",\"thunder bay\",\"shalqar\",\"crane\",\"lobito\",\"howard springs\",\"kisaran\",\"siuna\",\"gereida\",\"twon-brass\",\"kourou\",\"san julian\",\"hami\",\"stung treng\",\"srandakan\",\"saudarkrokur\",\"letlhakane\",\"letlhakeng\",\"sivrice\",\"nyachera\",\"karratha\",\"pamulang\",\"callao\",\"irtyshsk\",\"okha\",\"novyy urgal\",\"palikir - national government center\",\"fuente palmera\",\"arkalyk\",\"mejit\",\"vilyuysk\",\"greenville\",\"birzai\",\"mirnyy\",\"acuitzio del canje\",\"mogoytuy\",\"kharan\",\"borzya\",\"phang nga\",\"rakops\",\"rosso\",\"torrington\",\"qarazhal\",\"alto araguaia\",\"dnipro\",\"benguela\",\"darnah\",\"krasnovishersk\",\"flin flon\",\"horta\",\"revda\",\"galle\",\"al muwayh\",\"ketchikan\",\"caspe\",\"whittlesea\",\"ponnani\",\"margate\",\"anyama\",\"poso\"],\"shape\":[565],\"dtype\":\"object\",\"order\":\"little\"}],[\"Humidity\",{\"type\":\"ndarray\",\"array\":{\"type\":\"bytes\",\"data\":\"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\"},\"shape\":[565],\"dtype\":\"int32\",\"order\":\"little\"}],[\"color\",{\"type\":\"ndarray\",\"array\":[\"hawaiian paradise park\",\"pisco\",\"puerto natales\",\"invercargill\",\"sandnessjoen\",\"albany\",\"mount pearl\",\"patong\",\"pamandzi\",\"souillac\",\"blackmans bay\",\"narrabri\",\"puerto ayora\",\"whitehorse\",\"bredasdorp\",\"adamstown\",\"nyeri\",\"iskateley\",\"tungao\",\"port alfred\",\"rongelap\",\"hithadhoo\",\"lorengau\",\"hermanus\",\"lihue\",\"port macquarie\",\"port-aux-francais\",\"port mathurin\",\"acarau\",\"thinadhoo\",\"chonchi\",\"ust-nera\",\"jais\",\"ushuaia\",\"sinabang\",\"tiksi\",\"waitangi\",\"carnarvon\",\"saint-denis\",\"guaratinga\",\"hiratacho\",\"east london\",\"west island\",\"pandan\",\"altai\",\"general acha\",\"mazagao\",\"wailua homesteads\",\"badger\",\"dudinka\",\"dwarka\",\"la passe\",\"antsiranana\",\"parauapebas\",\"vernon\",\"atafu village\",\"iqaluit\",\"ploudalmezeau\",\"cockburn town\",\"tangalle\",\"grytviken\",\"olonkinbyen\",\"edinburgh of the seven seas\",\"borzna\",\"broken hill\",\"khulm\",\"longyearbyen\",\"fortuna\",\"bodo\",\"anadyr\",\"bandar-e genaveh\",\"summerside\",\"nova sintra\",\"adiake\",\"daru\",\"nishinoomote\",\"yellowknife\",\"hamilton\",\"springbok\",\"thompson\",\"tura\",\"freetown\",\"vilyuchinsk\",\"ilulissat\",\"nhlangano\",\"uttarkashi\",\"tocopilla\",\"coquimbo\",\"bereznik\",\"tazovsky\",\"harper\",\"udachny\",\"forest grove\",\"isafjordur\",\"bilibino\",\"madisonville\",\"zholymbet\",\"batalha\",\"den burg\",\"kandalaksha\",\"mkushi\",\"saldanha\",\"utrik\",\"kavaratti\",\"papatowai\",\"nuuk\",\"keflavik\",\"kodiak\",\"antigonish\",\"white river\",\"minas de marcona\",\"as sulayyil\",\"jamestown\",\"avarua\",\"archangelos\",\"holualoa\",\"coahuayana de hidalgo\",\"lhuentse\",\"grand-lahou\",\"rawson\",\"contamana\",\"woodlake\",\"kerikeri\",\"mahina\",\"san luis de la loma\",\"caetite\",\"santa elena de uairen\",\"bethel\",\"lompoc\",\"tsiombe\",\"constantia\",\"ola\",\"yarmouth\",\"georgetown\",\"hinton\",\"vila franca do campo\",\"saint albans\",\"qaqortoq\",\"khawr fakkan\",\"tadine\",\"college\",\"atherton\",\"afaahiti\",\"vorgashor\",\"balcarce\",\"monterey\",\"aasiaat\",\"fale old settlement\",\"nguigmi\",\"ancud\",\"amga\",\"napili-honokowai\",\"tabou\",\"mikulov\",\"kingston\",\"kangding\",\"weno\",\"tarawa\",\"stanley\",\"swakopmund\",\"shar\",\"taltal\",\"praia da vitoria\",\"chiredzi\",\"atbara\",\"luanda\",\"lebu\",\"sodra sandby\",\"mount isa\",\"klaksvik\",\"guadalupe y calvo\",\"kununurra\",\"januaria\",\"shahabad\",\"bonyhad\",\"plymouth\",\"yangambi\",\"pacific grove\",\"santa marta\",\"badamdar\",\"novodvinsk\",\"margaret river\",\"hastings\",\"yamada\",\"guiuan\",\"lu-uk\",\"yinchuan\",\"alofi\",\"howrah\",\"parnarama\",\"buta\",\"sabang\",\"axim\",\"dubbo\",\"villa emilio carranza\",\"niigata\",\"tamanrasset\",\"talnakh\",\"severo-yeniseyskiy\",\"happy valley-goose bay\",\"vadso\",\"qa'en\",\"sarandi del yi\",\"ipira\",\"hengchun\",\"priozersk\",\"katsuura\",\"chagny\",\"nova vicosa\",\"ribeira grande\",\"barcelos\",\"yaren\",\"pimentel\",\"nogliki\",\"sacaba\",\"geraldton\",\"jaisalmer\",\"amplepuis\",\"inhambane\",\"gadzhiyevo\",\"pucheng\",\"naze\",\"usogorsk\",\"turinsk\",\"horsham\",\"kabo\",\"halifax\",\"sarpsborg\",\"tianpeng\",\"merizo village\",\"pitimbu\",\"acapulco de juarez\",\"silver city\",\"temiskaming shores\",\"alice springs\",\"kilindoni\",\"codrington\",\"haifa\",\"kon tum\",\"antofagasta\",\"gospic\",\"tazacorte\",\"maua\",\"guerrero negro\",\"george town\",\"zakamensk\",\"lewiston orchards\",\"mantua\",\"sherbrooke\",\"cabo san lucas\",\"lerwick\",\"sungailiat\",\"arraial do cabo\",\"saipan\",\"ta`u\",\"tobelo\",\"baihe\",\"uturoa\",\"tolanaro\",\"susuman\",\"abepura\",\"chos malal\",\"al jawf\",\"iaciara\",\"carrizo springs\",\"mar del plata\",\"mohr\",\"las khorey\",\"port augusta\",\"jayanca\",\"lagoa\",\"chernyshevskiy\",\"dunedin\",\"sola\",\"rio grande\",\"havre\",\"bubaque\",\"san jose de jachal\",\"igarka\",\"khorinsk\",\"illela\",\"labrador city\",\"caibarien\",\"kolonia town\",\"pelabuhanratu\",\"brookings\",\"port douglas\",\"bom jardim\",\"rocha\",\"isangel\",\"kone\",\"fort bragg\",\"kapuskasing\",\"lucapa\",\"vennesla\",\"jayapura\",\"saint john's\",\"betio village\",\"batang\",\"arauca\",\"prince george\",\"miquelon\",\"el granada\",\"urucara\",\"ulladulla\",\"port elizabeth\",\"nemuro\",\"yuzhno-kurilsk\",\"puerto lempira\",\"san pedro pochutla\",\"magadan\",\"jendouba\",\"djenne\",\"puerto baquerizo moreno\",\"peterhead\",\"byron bay\",\"at taj\",\"sainte-adresse\",\"madang\",\"tralee\",\"troitsko-pechorsk\",\"belomorsk\",\"st. john's\",\"leninskoye\",\"enewetak\",\"ylitornio\",\"kuanda\",\"fisterra\",\"lauro de freitas\",\"egilsstadir\",\"kiunga\",\"al ghayzah\",\"ternate\",\"bikenibeu village\",\"hasaki\",\"tual\",\"petropavlovsk-kamchatsky\",\"al bawiti\",\"papao\",\"mariental\",\"fort st. john\",\"ghazni\",\"acajutla\",\"kirensk\",\"seme\",\"mikhaylovsk\",\"chibougamau\",\"el calafate\",\"morehead city\",\"zaozersk\",\"kingscliff\",\"namibe\",\"fort abbas\",\"poronaysk\",\"madimba\",\"dahlonega\",\"palmer\",\"christchurch\",\"kenai\",\"lagos\",\"griffith\",\"laguna\",\"silver springs\",\"dazhou\",\"hammerfest\",\"bonito\",\"santa luzia\",\"klyuchi\",\"bam\",\"remire-montjoly\",\"ad dabbah\",\"panguipulli\",\"le port\",\"berdigestyakh\",\"itamaraca\",\"vanimo\",\"balkanabat\",\"flying fish cove\",\"yorkton\",\"caernarfon\",\"lata\",\"coruripe\",\"punta arenas\",\"cidreira\",\"al khawr\",\"ostersund\",\"uyuni\",\"colonia\",\"homer\",\"arkhangel'sk\",\"sherbakul'\",\"peterborough\",\"brisas de zicatela\",\"bijie\",\"jalgaon\",\"gazojak\",\"tarutyne\",\"khandyga\",\"tidjikja\",\"gisborne\",\"west plains\",\"prado\",\"tayu\",\"bandon\",\"pingliang\",\"nar'yan-mar\",\"matola\",\"brisas barra de suchiate\",\"general conesa\",\"kalmunai\",\"cadale\",\"port lincoln\",\"montelibano\",\"kudahuvadhoo\",\"ouesso\",\"nagqu\",\"endasak\",\"champerico\",\"frontera\",\"kaa-khem\",\"zouerate\",\"par naogaon\",\"coxim\",\"anloga\",\"choyr\",\"mbandaka\",\"cafayate\",\"sault ste. marie\",\"ntungamo\",\"muravlenko\",\"navasota\",\"santiago de cao\",\"mount gambier\",\"haiku-pauwela\",\"port-vila\",\"amasra\",\"ilha solteira\",\"altinekin\",\"kzyltu\",\"salekhard\",\"tanout\",\"sierra grande\",\"bogo\",\"gobabis\",\"richards bay\",\"surami\",\"khanty-mansiysk\",\"portland\",\"mezapa\",\"camana\",\"nizhniy ingash\",\"medjez el bab\",\"luderitz\",\"usinsk\",\"thakhek\",\"darazo\",\"dieppe\",\"ramblewood\",\"nadi\",\"gambiran satu\",\"kavieng\",\"touros\",\"queenstown\",\"chashniki\",\"washington\",\"darwin\",\"ozerne\",\"alapayevsk\",\"alesund\",\"ibirama\",\"yeniseysk\",\"korla\",\"saint augustine beach\",\"kabare\",\"cabedelo\",\"sao gabriel da cachoeira\",\"tabas\",\"hilo\",\"del rio\",\"peno\",\"rehoboth\",\"longboat key\",\"namtsy\",\"pachora\",\"mumbwa\",\"akureyri\",\"beacon square\",\"corinto\",\"hirara\",\"tsengel\",\"turkmenbasy\",\"sisimiut\",\"kuna\",\"whakatane\",\"khost\",\"beinamar\",\"bonthe\",\"okhotsk\",\"caleta de carquin\",\"tomelloso\",\"raduzhny\",\"smithers\",\"bhim tal\",\"tucuma\",\"bayanhongor\",\"yar\",\"thunder bay\",\"shalqar\",\"crane\",\"lobito\",\"howard springs\",\"kisaran\",\"siuna\",\"gereida\",\"twon-brass\",\"kourou\",\"san julian\",\"hami\",\"stung treng\",\"srandakan\",\"saudarkrokur\",\"letlhakane\",\"letlhakeng\",\"sivrice\",\"nyachera\",\"karratha\",\"pamulang\",\"callao\",\"irtyshsk\",\"okha\",\"novyy urgal\",\"palikir - national government center\",\"fuente palmera\",\"arkalyk\",\"mejit\",\"vilyuysk\",\"greenville\",\"birzai\",\"mirnyy\",\"acuitzio del canje\",\"mogoytuy\",\"kharan\",\"borzya\",\"phang nga\",\"rakops\",\"rosso\",\"torrington\",\"qarazhal\",\"alto araguaia\",\"dnipro\",\"benguela\",\"darnah\",\"krasnovishersk\",\"flin flon\",\"horta\",\"revda\",\"galle\",\"al muwayh\",\"ketchikan\",\"caspe\",\"whittlesea\",\"ponnani\",\"margate\",\"anyama\",\"poso\"],\"shape\":[565],\"dtype\":\"object\",\"order\":\"little\"}],[\"size\",{\"type\":\"ndarray\",\"array\":{\"type\":\"bytes\",\"data\":\"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\"},\"shape\":[565],\"dtype\":\"float64\",\"order\":\"little\"}]]}}},\"view\":{\"type\":\"object\",\"name\":\"CDSView\",\"id\":\"p1114\",\"attributes\":{\"filter\":{\"type\":\"object\",\"name\":\"AllIndices\",\"id\":\"p1115\"}}},\"glyph\":{\"type\":\"object\",\"name\":\"Scatter\",\"id\":\"p1108\",\"attributes\":{\"tags\":[\"apply_ranges\"],\"x\":{\"type\":\"field\",\"field\":\"Lng\"},\"y\":{\"type\":\"field\",\"field\":\"Lat\"},\"size\":{\"type\":\"field\",\"field\":\"size\"},\"line_color\":{\"type\":\"field\",\"field\":\"color\",\"transform\":{\"type\":\"object\",\"name\":\"CategoricalColorMapper\",\"id\":\"p1100\",\"attributes\":{\"palette\":[\"#1f77b3\",\"#ff7e0e\",\"#2ba02b\",\"#d62628\",\"#9367bc\",\"#8c564b\",\"#e277c1\",\"#7e7e7e\",\"#bcbc21\",\"#16bdcf\",\"#3a0182\",\"#004201\",\"#0fffa8\",\"#5d003f\",\"#bcbcff\",\"#d8afa1\",\"#b80080\",\"#004d52\",\"#6b6400\",\"#7c0100\",\"#6026ff\",\"#ffff9a\",\"#564964\",\"#8cb893\",\"#93fbff\",\"#018267\",\"#90ff00\",\"#8200a0\",\"#ac8944\",\"#5b3400\",\"#ffbff2\",\"#ff6e75\",\"#798cff\",\"#dd00ff\",\"#505646\",\"#004489\",\"#ffbf60\",\"#ff018c\",\"#bdc8cf\",\"#af97b5\",\"#b65600\",\"#017000\",\"#cd87ff\",\"#1cd646\",\"#bfebc3\",\"#7997b5\",\"#a56089\",\"#6e8956\",\"#bc7c75\",\"#8a2844\",\"#00acff\",\"#8ed4ff\",\"#4b6d77\",\"#00d4b1\",\"#9300f2\",\"#8a9500\",\"#5d5b9e\",\"#fddfba\",\"#00939e\",\"#ffdb00\",\"#00aa79\",\"#520067\",\"#000091\",\"#0a5d3d\",\"#a5e275\",\"#623b41\",\"#c6c689\",\"#ff9eb5\",\"#cd4f6b\",\"#ff07d6\",\"#8a3a05\",\"#7e3d70\",\"#ff4901\",\"#602ba5\",\"#1c00ff\",\"#e6dfff\",\"#aa3baf\",\"#d89c00\",\"#a3a39e\",\"#3f69ff\",\"#46490c\",\"#7b6985\",\"#6b978c\",\"#ff9a75\",\"#835bff\",\"#7c6b46\",\"#80b654\",\"#bc0049\",\"#fd93ff\",\"#5d0018\",\"#89d1d1\",\"#9c8cd3\",\"#da6d42\",\"#8a5700\",\"#3b5069\",\"#4b6b3b\",\"#edcfd8\",\"#cfedff\",\"#aa1500\",\"#dfff4f\",\"#ff2a56\",\"#d1499e\",\"#707cb8\",\"#598000\",\"#00e4fd\",\"#774b95\",\"#67d48c\",\"#3d3a72\",\"#ac413f\",\"#d6a166\",\"#c169cd\",\"#69595d\",\"#87aced\",\"#a0a569\",\"#d1aae6\",\"#870062\",\"#00fddb\",\"#672818\",\"#b342ff\",\"#0e59c4\",\"#168742\",\"#90d300\",\"#cd7900\",\"#f959ff\",\"#5b7466\",\"#8eaeb3\",\"#9c7c8c\",\"#4600c6\",\"#6b4d2d\",\"#a56d46\",\"#9e8972\",\"#a8afca\",\"#cd8ca7\",\"#00fd64\",\"#917900\",\"#ff62a1\",\"#f4ffd8\",\"#018cf0\",\"#13aca0\",\"#5b2d59\",\"#89859e\",\"#cfccba\",\"#d4afc4\",\"#dbdd6d\",\"#cffff4\",\"#006485\",\"#006962\",\"#a84167\",\"#2d97c4\",\"#a874ff\",\"#26ba5d\",\"#57b600\",\"#caffa7\",\"#a379aa\",\"#ffbc93\",\"#89e2c1\",\"#0fc8ff\",\"#d400c4\",\"#626d89\",\"#69858e\",\"#4b4d52\",\"#aa6067\",\"#79b5d4\",\"#2b5916\",\"#9a0024\",\"#bdd1f2\",\"#896e67\",\"#69a56b\",\"#855467\",\"#aecdba\",\"#87997e\",\"#cadb00\",\"#9a0390\",\"#ebbc1a\",\"#eb9cd1\",\"#70006e\",\"#b1a131\",\"#ca6b93\",\"#4146a3\",\"#e48c89\",\"#d44400\",\"#c68aca\",\"#b69597\",\"#d41f75\",\"#724bcc\",\"#674d00\",\"#672138\",\"#38564f\",\"#6ebaaa\",\"#853a31\",\"#a5d397\",\"#b8af8e\",\"#d8e4df\",\"#aa00df\",\"#cac1db\",\"#ffdf8c\",\"#e2524d\",\"#66696e\",\"#ff001c\",\"#522d72\",\"#4d906b\",\"#a86d11\",\"#ff9e26\",\"#5ea3af\",\"#c88556\",\"#915997\",\"#a3a1ff\",\"#fdbaba\",\"#242a87\",\"#dbe6a8\",\"#97f2a7\",\"#6793d6\",\"#ba5b3f\",\"#3a5d91\",\"#364f2f\",\"#267c95\",\"#89959a\",\"#cfb356\",\"#004664\",\"#5e5d2f\",\"#8e8e41\",\"#ac3f13\",\"#69953b\",\"#a13d85\",\"#bfb6ba\",\"#acc667\",\"#6469cf\",\"#91af00\",\"#2be2da\",\"#016e36\",\"#ff7952\",\"#42807e\",\"#4fe800\",\"#995428\",\"#5d0a00\",\"#a30057\",\"#0c8700\",\"#5982a7\",\"#ffebfb\",\"#4b6901\",\"#8775d4\",\"#e6c6ff\",\"#a5ffda\",\"#d86e77\",\"#df014b\",\"#69675b\",\"#776ba1\",\"#7e8067\",\"#594685\",\"#0000ca\",\"#7c002a\",\"#97ff72\",\"#b5e2e1\",\"#db52c8\",\"#777734\",\"#57bd8e\",\"#1f77b3\",\"#ff7e0e\",\"#2ba02b\",\"#d62628\",\"#9367bc\",\"#8c564b\",\"#e277c1\",\"#7e7e7e\",\"#bcbc21\",\"#16bdcf\",\"#3a0182\",\"#004201\",\"#0fffa8\",\"#5d003f\",\"#bcbcff\",\"#d8afa1\",\"#b80080\",\"#004d52\",\"#6b6400\",\"#7c0100\",\"#6026ff\",\"#ffff9a\",\"#564964\",\"#8cb893\",\"#93fbff\",\"#018267\",\"#90ff00\",\"#8200a0\",\"#ac8944\",\"#5b3400\",\"#ffbff2\",\"#ff6e75\",\"#798cff\",\"#dd00ff\",\"#505646\",\"#004489\",\"#ffbf60\",\"#ff018c\",\"#bdc8cf\",\"#af97b5\",\"#b65600\",\"#017000\",\"#cd87ff\",\"#1cd646\",\"#bfebc3\",\"#7997b5\",\"#a56089\",\"#6e8956\",\"#bc7c75\",\"#8a2844\",\"#00acff\",\"#8ed4ff\",\"#4b6d77\",\"#00d4b1\",\"#9300f2\",\"#8a9500\",\"#5d5b9e\",\"#fddfba\",\"#00939e\",\"#ffdb00\",\"#00aa79\",\"#520067\",\"#000091\",\"#0a5d3d\",\"#a5e275\",\"#623b41\",\"#c6c689\",\"#ff9eb5\",\"#cd4f6b\",\"#ff07d6\",\"#8a3a05\",\"#7e3d70\",\"#ff4901\",\"#602ba5\",\"#1c00ff\",\"#e6dfff\",\"#aa3baf\",\"#d89c00\",\"#a3a39e\",\"#3f69ff\",\"#46490c\",\"#7b6985\",\"#6b978c\",\"#ff9a75\",\"#835bff\",\"#7c6b46\",\"#80b654\",\"#bc0049\",\"#fd93ff\",\"#5d0018\",\"#89d1d1\",\"#9c8cd3\",\"#da6d42\",\"#8a5700\",\"#3b5069\",\"#4b6b3b\",\"#edcfd8\",\"#cfedff\",\"#aa1500\",\"#dfff4f\",\"#ff2a56\",\"#d1499e\",\"#707cb8\",\"#598000\",\"#00e4fd\",\"#774b95\",\"#67d48c\",\"#3d3a72\",\"#ac413f\",\"#d6a166\",\"#c169cd\",\"#69595d\",\"#87aced\",\"#a0a569\",\"#d1aae6\",\"#870062\",\"#00fddb\",\"#672818\",\"#b342ff\",\"#0e59c4\",\"#168742\",\"#90d300\",\"#cd7900\",\"#f959ff\",\"#5b7466\",\"#8eaeb3\",\"#9c7c8c\",\"#4600c6\",\"#6b4d2d\",\"#a56d46\",\"#9e8972\",\"#a8afca\",\"#cd8ca7\",\"#00fd64\",\"#917900\",\"#ff62a1\",\"#f4ffd8\",\"#018cf0\",\"#13aca0\",\"#5b2d59\",\"#89859e\",\"#cfccba\",\"#d4afc4\",\"#dbdd6d\",\"#cffff4\",\"#006485\",\"#006962\",\"#a84167\",\"#2d97c4\",\"#a874ff\",\"#26ba5d\",\"#57b600\",\"#caffa7\",\"#a379aa\",\"#ffbc93\",\"#89e2c1\",\"#0fc8ff\",\"#d400c4\",\"#626d89\",\"#69858e\",\"#4b4d52\",\"#aa6067\",\"#79b5d4\",\"#2b5916\",\"#9a0024\",\"#bdd1f2\",\"#896e67\",\"#69a56b\",\"#855467\",\"#aecdba\",\"#87997e\",\"#cadb00\",\"#9a0390\",\"#ebbc1a\",\"#eb9cd1\",\"#70006e\",\"#b1a131\",\"#ca6b93\",\"#4146a3\",\"#e48c89\",\"#d44400\",\"#c68aca\",\"#b69597\",\"#d41f75\",\"#724bcc\",\"#674d00\",\"#672138\",\"#38564f\",\"#6ebaaa\",\"#853a31\",\"#a5d397\",\"#b8af8e\",\"#d8e4df\",\"#aa00df\",\"#cac1db\",\"#ffdf8c\",\"#e2524d\",\"#66696e\",\"#ff001c\",\"#522d72\",\"#4d906b\",\"#a86d11\",\"#ff9e26\",\"#5ea3af\",\"#c88556\",\"#915997\",\"#a3a1ff\",\"#fdbaba\",\"#242a87\",\"#dbe6a8\",\"#97f2a7\",\"#6793d6\",\"#ba5b3f\",\"#3a5d91\",\"#364f2f\",\"#267c95\",\"#89959a\",\"#cfb356\",\"#004664\",\"#5e5d2f\",\"#8e8e41\",\"#ac3f13\",\"#69953b\",\"#a13d85\",\"#bfb6ba\",\"#acc667\",\"#6469cf\",\"#91af00\",\"#2be2da\",\"#016e36\",\"#ff7952\",\"#42807e\",\"#4fe800\",\"#995428\",\"#5d0a00\",\"#a30057\",\"#0c8700\",\"#5982a7\",\"#ffebfb\",\"#4b6901\",\"#8775d4\",\"#e6c6ff\",\"#a5ffda\",\"#d86e77\",\"#df014b\",\"#69675b\",\"#776ba1\",\"#7e8067\",\"#594685\",\"#0000ca\",\"#7c002a\",\"#97ff72\",\"#b5e2e1\",\"#db52c8\",\"#777734\",\"#57bd8e\",\"#1f77b3\",\"#ff7e0e\",\"#2ba02b\",\"#d62628\",\"#9367bc\",\"#8c564b\",\"#e277c1\",\"#7e7e7e\",\"#bcbc21\",\"#16bdcf\",\"#3a0182\",\"#004201\",\"#0fffa8\",\"#5d003f\",\"#bcbcff\",\"#d8afa1\",\"#b80080\",\"#004d52\",\"#6b6400\",\"#7c0100\",\"#6026ff\",\"#ffff9a\",\"#564964\",\"#8cb893\",\"#93fbff\",\"#018267\",\"#90ff00\",\"#8200a0\",\"#ac8944\",\"#5b3400\",\"#ffbff2\",\"#ff6e75\",\"#798cff\",\"#dd00ff\",\"#505646\",\"#004489\",\"#ffbf60\",\"#ff018c\",\"#bdc8cf\",\"#af97b5\",\"#b65600\",\"#017000\",\"#cd87ff\",\"#1cd646\",\"#bfebc3\",\"#7997b5\",\"#a56089\",\"#6e8956\",\"#bc7c75\",\"#8a2844\",\"#00acff\",\"#8ed4ff\",\"#4b6d77\"],\"factors\":[\"hawaiian paradise park\",\"pisco\",\"puerto natales\",\"invercargill\",\"sandnessjoen\",\"albany\",\"mount pearl\",\"patong\",\"pamandzi\",\"souillac\",\"blackmans bay\",\"narrabri\",\"puerto ayora\",\"whitehorse\",\"bredasdorp\",\"adamstown\",\"nyeri\",\"iskateley\",\"tungao\",\"port alfred\",\"rongelap\",\"hithadhoo\",\"lorengau\",\"hermanus\",\"lihue\",\"port macquarie\",\"port-aux-francais\",\"port mathurin\",\"acarau\",\"thinadhoo\",\"chonchi\",\"ust-nera\",\"jais\",\"ushuaia\",\"sinabang\",\"tiksi\",\"waitangi\",\"carnarvon\",\"saint-denis\",\"guaratinga\",\"hiratacho\",\"east london\",\"west island\",\"pandan\",\"altai\",\"general acha\",\"mazagao\",\"wailua homesteads\",\"badger\",\"dudinka\",\"dwarka\",\"la passe\",\"antsiranana\",\"parauapebas\",\"vernon\",\"atafu village\",\"iqaluit\",\"ploudalmezeau\",\"cockburn town\",\"tangalle\",\"grytviken\",\"olonkinbyen\",\"edinburgh of the seven seas\",\"borzna\",\"broken hill\",\"khulm\",\"longyearbyen\",\"fortuna\",\"bodo\",\"anadyr\",\"bandar-e genaveh\",\"summerside\",\"nova sintra\",\"adiake\",\"daru\",\"nishinoomote\",\"yellowknife\",\"hamilton\",\"springbok\",\"thompson\",\"tura\",\"freetown\",\"vilyuchinsk\",\"ilulissat\",\"nhlangano\",\"uttarkashi\",\"tocopilla\",\"coquimbo\",\"bereznik\",\"tazovsky\",\"harper\",\"udachny\",\"forest grove\",\"isafjordur\",\"bilibino\",\"madisonville\",\"zholymbet\",\"batalha\",\"den burg\",\"kandalaksha\",\"mkushi\",\"saldanha\",\"utrik\",\"kavaratti\",\"papatowai\",\"nuuk\",\"keflavik\",\"kodiak\",\"antigonish\",\"white river\",\"minas de marcona\",\"as sulayyil\",\"jamestown\",\"avarua\",\"archangelos\",\"holualoa\",\"coahuayana de hidalgo\",\"lhuentse\",\"grand-lahou\",\"rawson\",\"contamana\",\"woodlake\",\"kerikeri\",\"mahina\",\"san luis de la loma\",\"caetite\",\"santa elena de uairen\",\"bethel\",\"lompoc\",\"tsiombe\",\"constantia\",\"ola\",\"yarmouth\",\"georgetown\",\"hinton\",\"vila franca do campo\",\"saint albans\",\"qaqortoq\",\"khawr fakkan\",\"tadine\",\"college\",\"atherton\",\"afaahiti\",\"vorgashor\",\"balcarce\",\"monterey\",\"aasiaat\",\"fale old settlement\",\"nguigmi\",\"ancud\",\"amga\",\"napili-honokowai\",\"tabou\",\"mikulov\",\"kingston\",\"kangding\",\"weno\",\"tarawa\",\"stanley\",\"swakopmund\",\"shar\",\"taltal\",\"praia da vitoria\",\"chiredzi\",\"atbara\",\"luanda\",\"lebu\",\"sodra sandby\",\"mount isa\",\"klaksvik\",\"guadalupe y calvo\",\"kununurra\",\"januaria\",\"shahabad\",\"bonyhad\",\"plymouth\",\"yangambi\",\"pacific grove\",\"santa marta\",\"badamdar\",\"novodvinsk\",\"margaret river\",\"hastings\",\"yamada\",\"guiuan\",\"lu-uk\",\"yinchuan\",\"alofi\",\"howrah\",\"parnarama\",\"buta\",\"sabang\",\"axim\",\"dubbo\",\"villa emilio carranza\",\"niigata\",\"tamanrasset\",\"talnakh\",\"severo-yeniseyskiy\",\"happy valley-goose bay\",\"vadso\",\"qa'en\",\"sarandi del yi\",\"ipira\",\"hengchun\",\"priozersk\",\"katsuura\",\"chagny\",\"nova vicosa\",\"ribeira grande\",\"barcelos\",\"yaren\",\"pimentel\",\"nogliki\",\"sacaba\",\"geraldton\",\"jaisalmer\",\"amplepuis\",\"inhambane\",\"gadzhiyevo\",\"pucheng\",\"naze\",\"usogorsk\",\"turinsk\",\"horsham\",\"kabo\",\"halifax\",\"sarpsborg\",\"tianpeng\",\"merizo village\",\"pitimbu\",\"acapulco de juarez\",\"silver city\",\"temiskaming shores\",\"alice springs\",\"kilindoni\",\"codrington\",\"haifa\",\"kon tum\",\"antofagasta\",\"gospic\",\"tazacorte\",\"maua\",\"guerrero negro\",\"george town\",\"zakamensk\",\"lewiston orchards\",\"mantua\",\"sherbrooke\",\"cabo san lucas\",\"lerwick\",\"sungailiat\",\"arraial do cabo\",\"saipan\",\"ta`u\",\"tobelo\",\"baihe\",\"uturoa\",\"tolanaro\",\"susuman\",\"abepura\",\"chos malal\",\"al jawf\",\"iaciara\",\"carrizo springs\",\"mar del plata\",\"mohr\",\"las khorey\",\"port augusta\",\"jayanca\",\"lagoa\",\"chernyshevskiy\",\"dunedin\",\"sola\",\"rio grande\",\"havre\",\"bubaque\",\"san jose de jachal\",\"igarka\",\"khorinsk\",\"illela\",\"labrador city\",\"caibarien\",\"kolonia town\",\"pelabuhanratu\",\"brookings\",\"port douglas\",\"bom jardim\",\"rocha\",\"isangel\",\"kone\",\"fort bragg\",\"kapuskasing\",\"lucapa\",\"vennesla\",\"jayapura\",\"saint john's\",\"betio village\",\"batang\",\"arauca\",\"prince george\",\"miquelon\",\"el granada\",\"urucara\",\"ulladulla\",\"port elizabeth\",\"nemuro\",\"yuzhno-kurilsk\",\"puerto lempira\",\"san pedro pochutla\",\"magadan\",\"jendouba\",\"djenne\",\"puerto baquerizo moreno\",\"peterhead\",\"byron bay\",\"at taj\",\"sainte-adresse\",\"madang\",\"tralee\",\"troitsko-pechorsk\",\"belomorsk\",\"st. john's\",\"leninskoye\",\"enewetak\",\"ylitornio\",\"kuanda\",\"fisterra\",\"lauro de freitas\",\"egilsstadir\",\"kiunga\",\"al ghayzah\",\"ternate\",\"bikenibeu village\",\"hasaki\",\"tual\",\"petropavlovsk-kamchatsky\",\"al bawiti\",\"papao\",\"mariental\",\"fort st. john\",\"ghazni\",\"acajutla\",\"kirensk\",\"seme\",\"mikhaylovsk\",\"chibougamau\",\"el calafate\",\"morehead city\",\"zaozersk\",\"kingscliff\",\"namibe\",\"fort abbas\",\"poronaysk\",\"madimba\",\"dahlonega\",\"palmer\",\"christchurch\",\"kenai\",\"lagos\",\"griffith\",\"laguna\",\"silver springs\",\"dazhou\",\"hammerfest\",\"bonito\",\"santa luzia\",\"klyuchi\",\"bam\",\"remire-montjoly\",\"ad dabbah\",\"panguipulli\",\"le port\",\"berdigestyakh\",\"itamaraca\",\"vanimo\",\"balkanabat\",\"flying fish cove\",\"yorkton\",\"caernarfon\",\"lata\",\"coruripe\",\"punta arenas\",\"cidreira\",\"al khawr\",\"ostersund\",\"uyuni\",\"colonia\",\"homer\",\"arkhangel'sk\",\"sherbakul'\",\"peterborough\",\"brisas de zicatela\",\"bijie\",\"jalgaon\",\"gazojak\",\"tarutyne\",\"khandyga\",\"tidjikja\",\"gisborne\",\"west plains\",\"prado\",\"tayu\",\"bandon\",\"pingliang\",\"nar'yan-mar\",\"matola\",\"brisas barra de suchiate\",\"general conesa\",\"kalmunai\",\"cadale\",\"port lincoln\",\"montelibano\",\"kudahuvadhoo\",\"ouesso\",\"nagqu\",\"endasak\",\"champerico\",\"frontera\",\"kaa-khem\",\"zouerate\",\"par naogaon\",\"coxim\",\"anloga\",\"choyr\",\"mbandaka\",\"cafayate\",\"sault ste. marie\",\"ntungamo\",\"muravlenko\",\"navasota\",\"santiago de cao\",\"mount gambier\",\"haiku-pauwela\",\"port-vila\",\"amasra\",\"ilha solteira\",\"altinekin\",\"kzyltu\",\"salekhard\",\"tanout\",\"sierra grande\",\"bogo\",\"gobabis\",\"richards bay\",\"surami\",\"khanty-mansiysk\",\"portland\",\"mezapa\",\"camana\",\"nizhniy ingash\",\"medjez el bab\",\"luderitz\",\"usinsk\",\"thakhek\",\"darazo\",\"dieppe\",\"ramblewood\",\"nadi\",\"gambiran satu\",\"kavieng\",\"touros\",\"queenstown\",\"chashniki\",\"washington\",\"darwin\",\"ozerne\",\"alapayevsk\",\"alesund\",\"ibirama\",\"yeniseysk\",\"korla\",\"saint augustine beach\",\"kabare\",\"cabedelo\",\"sao gabriel da cachoeira\",\"tabas\",\"hilo\",\"del rio\",\"peno\",\"rehoboth\",\"longboat key\",\"namtsy\",\"pachora\",\"mumbwa\",\"akureyri\",\"beacon square\",\"corinto\",\"hirara\",\"tsengel\",\"turkmenbasy\",\"sisimiut\",\"kuna\",\"whakatane\",\"khost\",\"beinamar\",\"bonthe\",\"okhotsk\",\"caleta de carquin\",\"tomelloso\",\"raduzhny\",\"smithers\",\"bhim tal\",\"tucuma\",\"bayanhongor\",\"yar\",\"thunder bay\",\"shalqar\",\"crane\",\"lobito\",\"howard springs\",\"kisaran\",\"siuna\",\"gereida\",\"twon-brass\",\"kourou\",\"san julian\",\"hami\",\"stung treng\",\"srandakan\",\"saudarkrokur\",\"letlhakane\",\"letlhakeng\",\"sivrice\",\"nyachera\",\"karratha\",\"pamulang\",\"callao\",\"irtyshsk\",\"okha\",\"novyy urgal\",\"palikir - national government center\",\"fuente palmera\",\"arkalyk\",\"mejit\",\"vilyuysk\",\"greenville\",\"birzai\",\"mirnyy\",\"acuitzio del canje\",\"mogoytuy\",\"kharan\",\"borzya\",\"phang nga\",\"rakops\",\"rosso\",\"torrington\",\"qarazhal\",\"alto araguaia\",\"dnipro\",\"benguela\",\"darnah\",\"krasnovishersk\",\"flin flon\",\"horta\",\"revda\",\"galle\",\"al muwayh\",\"ketchikan\",\"caspe\",\"whittlesea\",\"ponnani\",\"margate\",\"anyama\",\"poso\"]}}},\"fill_color\":{\"type\":\"field\",\"field\":\"color\",\"transform\":{\"id\":\"p1100\"}},\"hatch_color\":{\"type\":\"field\",\"field\":\"color\",\"transform\":{\"id\":\"p1100\"}}}},\"selection_glyph\":{\"type\":\"object\",\"name\":\"Scatter\",\"id\":\"p1110\",\"attributes\":{\"tags\":[\"apply_ranges\"],\"x\":{\"type\":\"field\",\"field\":\"Lng\"},\"y\":{\"type\":\"field\",\"field\":\"Lat\"},\"size\":{\"type\":\"field\",\"field\":\"size\"},\"line_color\":{\"type\":\"field\",\"field\":\"color\",\"transform\":{\"id\":\"p1100\"}},\"fill_color\":{\"type\":\"field\",\"field\":\"color\",\"transform\":{\"id\":\"p1100\"}},\"hatch_color\":{\"type\":\"field\",\"field\":\"color\",\"transform\":{\"id\":\"p1100\"}}}},\"nonselection_glyph\":{\"type\":\"object\",\"name\":\"Scatter\",\"id\":\"p1109\",\"attributes\":{\"tags\":[\"apply_ranges\"],\"x\":{\"type\":\"field\",\"field\":\"Lng\"},\"y\":{\"type\":\"field\",\"field\":\"Lat\"},\"size\":{\"type\":\"field\",\"field\":\"size\"},\"line_color\":{\"type\":\"field\",\"field\":\"color\",\"transform\":{\"id\":\"p1100\"}},\"line_alpha\":{\"type\":\"value\",\"value\":0.1},\"fill_color\":{\"type\":\"field\",\"field\":\"color\",\"transform\":{\"id\":\"p1100\"}},\"fill_alpha\":{\"type\":\"value\",\"value\":0.1},\"hatch_color\":{\"type\":\"field\",\"field\":\"color\",\"transform\":{\"id\":\"p1100\"}},\"hatch_alpha\":{\"type\":\"value\",\"value\":0.1}}},\"hover_glyph\":{\"type\":\"object\",\"name\":\"Scatter\",\"id\":\"p1111\",\"attributes\":{\"tags\":[\"apply_ranges\"],\"x\":{\"type\":\"field\",\"field\":\"Lng\"},\"y\":{\"type\":\"field\",\"field\":\"Lat\"},\"size\":{\"type\":\"field\",\"field\":\"size\"},\"line_color\":{\"type\":\"field\",\"field\":\"color\",\"transform\":{\"id\":\"p1100\"}},\"fill_color\":{\"type\":\"field\",\"field\":\"color\",\"transform\":{\"id\":\"p1100\"}},\"hatch_color\":{\"type\":\"field\",\"field\":\"color\",\"transform\":{\"id\":\"p1100\"}}}},\"muted_glyph\":{\"type\":\"object\",\"name\":\"Scatter\",\"id\":\"p1112\",\"attributes\":{\"tags\":[\"apply_ranges\"],\"x\":{\"type\":\"field\",\"field\":\"Lng\"},\"y\":{\"type\":\"field\",\"field\":\"Lat\"},\"size\":{\"type\":\"field\",\"field\":\"size\"},\"line_color\":{\"type\":\"field\",\"field\":\"color\",\"transform\":{\"id\":\"p1100\"}},\"line_alpha\":{\"type\":\"value\",\"value\":0.2},\"fill_color\":{\"type\":\"field\",\"field\":\"color\",\"transform\":{\"id\":\"p1100\"}},\"fill_alpha\":{\"type\":\"value\",\"value\":0.2},\"hatch_color\":{\"type\":\"field\",\"field\":\"color\",\"transform\":{\"id\":\"p1100\"}},\"hatch_alpha\":{\"type\":\"value\",\"value\":0.2}}}}}],\"toolbar\":{\"type\":\"object\",\"name\":\"Toolbar\",\"id\":\"p1031\",\"attributes\":{\"tools\":[{\"type\":\"object\",\"name\":\"HoverTool\",\"id\":\"p1022\",\"attributes\":{\"tags\":[\"hv_created\"],\"renderers\":[{\"id\":\"p1113\"}],\"tooltips\":[[\"Lng\",\"$x{custom}\"],[\"Lat\",\"$y{custom}\"],[\"City\",\"@{City}\"],[\"Humidity\",\"@{Humidity}\"]],\"formatters\":{\"type\":\"map\",\"entries\":[[\"$x\",{\"type\":\"object\",\"name\":\"CustomJSHover\",\"id\":\"p1119\",\"attributes\":{\"code\":\"\\n        const projections = Bokeh.require(\\\"core/util/projections\\\");\\n        const {snap_x, snap_y} = special_vars\\n        const coords = projections.wgs84_mercator.invert(snap_x, snap_y)\\n        return \\\"\\\" + (coords[0]).toFixed(4)\\n    \"}}],[\"$y\",{\"type\":\"object\",\"name\":\"CustomJSHover\",\"id\":\"p1120\",\"attributes\":{\"code\":\"\\n        const projections = Bokeh.require(\\\"core/util/projections\\\");\\n        const {snap_x, snap_y} = special_vars\\n        const coords = projections.wgs84_mercator.invert(snap_x, snap_y)\\n        return \\\"\\\" + (coords[1]).toFixed(4)\\n    \"}}]]}}},{\"type\":\"object\",\"name\":\"SaveTool\",\"id\":\"p1053\"},{\"type\":\"object\",\"name\":\"PanTool\",\"id\":\"p1054\"},{\"type\":\"object\",\"name\":\"WheelZoomTool\",\"id\":\"p1055\",\"attributes\":{\"zoom_on_axis\":false}},{\"type\":\"object\",\"name\":\"BoxZoomTool\",\"id\":\"p1056\",\"attributes\":{\"overlay\":{\"type\":\"object\",\"name\":\"BoxAnnotation\",\"id\":\"p1057\",\"attributes\":{\"syncable\":false,\"level\":\"overlay\",\"visible\":false,\"left_units\":\"canvas\",\"right_units\":\"canvas\",\"bottom_units\":\"canvas\",\"top_units\":\"canvas\",\"line_color\":\"black\",\"line_alpha\":1.0,\"line_width\":2,\"line_dash\":[4,4],\"fill_color\":\"lightgrey\",\"fill_alpha\":0.5}},\"match_aspect\":true}},{\"type\":\"object\",\"name\":\"ResetTool\",\"id\":\"p1058\"}],\"active_drag\":{\"id\":\"p1054\"}}},\"left\":[{\"type\":\"object\",\"name\":\"LinearAxis\",\"id\":\"p1046\",\"attributes\":{\"ticker\":{\"type\":\"object\",\"name\":\"MercatorTicker\",\"id\":\"p1069\",\"attributes\":{\"mantissas\":[1,2,5],\"dimension\":\"lat\"}},\"formatter\":{\"type\":\"object\",\"name\":\"MercatorTickFormatter\",\"id\":\"p1070\",\"attributes\":{\"dimension\":\"lat\"}},\"axis_label\":\"y\",\"major_label_policy\":{\"type\":\"object\",\"name\":\"AllLabels\",\"id\":\"p1047\"}}}],\"right\":[{\"type\":\"object\",\"name\":\"Legend\",\"id\":\"p1116\",\"attributes\":{\"location\":[0,0],\"click_policy\":\"mute\",\"items\":[{\"type\":\"object\",\"name\":\"LegendItem\",\"id\":\"p1117\",\"attributes\":{\"label\":{\"type\":\"field\",\"field\":\"color\"},\"renderers\":[{\"id\":\"p1113\"}]}}]}}],\"below\":[{\"type\":\"object\",\"name\":\"LinearAxis\",\"id\":\"p1039\",\"attributes\":{\"ticker\":{\"type\":\"object\",\"name\":\"MercatorTicker\",\"id\":\"p1067\",\"attributes\":{\"mantissas\":[1,2,5],\"dimension\":\"lon\"}},\"formatter\":{\"type\":\"object\",\"name\":\"MercatorTickFormatter\",\"id\":\"p1068\",\"attributes\":{\"dimension\":\"lon\"}},\"axis_label\":\"x\",\"major_label_policy\":{\"type\":\"object\",\"name\":\"AllLabels\",\"id\":\"p1040\"}}}],\"center\":[{\"type\":\"object\",\"name\":\"Grid\",\"id\":\"p1045\",\"attributes\":{\"axis\":{\"id\":\"p1039\"},\"grid_line_color\":null}},{\"type\":\"object\",\"name\":\"Grid\",\"id\":\"p1052\",\"attributes\":{\"dimension\":1,\"axis\":{\"id\":\"p1046\"},\"grid_line_color\":null}}],\"frame_width\":700,\"frame_height\":500,\"min_border_top\":10,\"min_border_bottom\":10,\"min_border_left\":10,\"min_border_right\":10,\"output_backend\":\"webgl\",\"match_aspect\":true}},{\"type\":\"object\",\"name\":\"Spacer\",\"id\":\"p1133\",\"attributes\":{\"name\":\"HSpacer01571\",\"stylesheets\":[\"\\n:host(.pn-loading.pn-arc):before, .pn-loading.pn-arc:before {\\n  background-image: url(\\\"data:image/svg+xml;base64,PHN2ZyB4bWxucz0iaHR0cDovL3d3dy53My5vcmcvMjAwMC9zdmciIHN0eWxlPSJtYXJnaW46IGF1dG87IGJhY2tncm91bmQ6IG5vbmU7IGRpc3BsYXk6IGJsb2NrOyBzaGFwZS1yZW5kZXJpbmc6IGF1dG87IiB2aWV3Qm94PSIwIDAgMTAwIDEwMCIgcHJlc2VydmVBc3BlY3RSYXRpbz0ieE1pZFlNaWQiPiAgPGNpcmNsZSBjeD0iNTAiIGN5PSI1MCIgZmlsbD0ibm9uZSIgc3Ryb2tlPSIjYzNjM2MzIiBzdHJva2Utd2lkdGg9IjEwIiByPSIzNSIgc3Ryb2tlLWRhc2hhcnJheT0iMTY0LjkzMzYxNDMxMzQ2NDE1IDU2Ljk3Nzg3MTQzNzgyMTM4Ij4gICAgPGFuaW1hdGVUcmFuc2Zvcm0gYXR0cmlidXRlTmFtZT0idHJhbnNmb3JtIiB0eXBlPSJyb3RhdGUiIHJlcGVhdENvdW50PSJpbmRlZmluaXRlIiBkdXI9IjFzIiB2YWx1ZXM9IjAgNTAgNTA7MzYwIDUwIDUwIiBrZXlUaW1lcz0iMDsxIj48L2FuaW1hdGVUcmFuc2Zvcm0+ICA8L2NpcmNsZT48L3N2Zz4=\\\");\\n  background-size: auto calc(min(50%, 400px));\\n}\",{\"id\":\"p1008\"},{\"id\":\"p1006\"},{\"id\":\"p1007\"}],\"margin\":0,\"sizing_mode\":\"stretch_width\",\"align\":\"start\"}}]}}],\"callbacks\":{\"type\":\"map\"}}};\n",
       "  var render_items = [{\"docid\":\"bb045cb8-3718-48d9-8864-b66b165f1989\",\"roots\":{\"p1005\":\"fb402e53-329d-4e4d-ae73-da8dcf54af77\"},\"root_ids\":[\"p1005\"]}];\n",
       "  var docs = Object.values(docs_json)\n",
       "  if (!docs) {\n",
       "    return\n",
       "  }\n",
       "  const py_version = docs[0].version.replace('rc', '-rc.')\n",
       "  const is_dev = py_version.indexOf(\"+\") !== -1 || py_version.indexOf(\"-\") !== -1\n",
       "  function embed_document(root) {\n",
       "    var Bokeh = get_bokeh(root)\n",
       "    Bokeh.embed.embed_items_notebook(docs_json, render_items);\n",
       "    for (const render_item of render_items) {\n",
       "      for (const root_id of render_item.root_ids) {\n",
       "\tconst id_el = document.getElementById(root_id)\n",
       "\tif (id_el.children.length && (id_el.children[0].className === 'bk-root')) {\n",
       "\t  const root_el = id_el.children[0]\n",
       "\t  root_el.id = root_el.id + '-rendered'\n",
       "\t}\n",
       "      }\n",
       "    }\n",
       "  }\n",
       "  function get_bokeh(root) {\n",
       "    if (root.Bokeh === undefined) {\n",
       "      return null\n",
       "    } else if (root.Bokeh.version !== py_version && !is_dev) {\n",
       "      if (root.Bokeh.versions === undefined || !root.Bokeh.versions.has(py_version)) {\n",
       "\treturn null\n",
       "      }\n",
       "      return root.Bokeh.versions.get(py_version);\n",
       "    } else if (root.Bokeh.version === py_version) {\n",
       "      return root.Bokeh\n",
       "    }\n",
       "    return null\n",
       "  }\n",
       "  function is_loaded(root) {\n",
       "    var Bokeh = get_bokeh(root)\n",
       "    return (Bokeh != null && Bokeh.Panel !== undefined)\n",
       "  }\n",
       "  if (is_loaded(root)) {\n",
       "    embed_document(root);\n",
       "  } else {\n",
       "    var attempts = 0;\n",
       "    var timer = setInterval(function(root) {\n",
       "      if (is_loaded(root)) {\n",
       "        clearInterval(timer);\n",
       "        embed_document(root);\n",
       "      } else if (document.readyState == \"complete\") {\n",
       "        attempts++;\n",
       "        if (attempts > 200) {\n",
       "          clearInterval(timer);\n",
       "\t  var Bokeh = get_bokeh(root)\n",
       "\t  if (Bokeh == null || Bokeh.Panel == null) {\n",
       "            console.warn(\"Panel: ERROR: Unable to run Panel code because Bokeh or Panel library is missing\");\n",
       "\t  } else {\n",
       "\t    console.warn(\"Panel: WARNING: Attempting to render but not all required libraries could be resolved.\")\n",
       "\t    embed_document(root)\n",
       "\t  }\n",
       "        }\n",
       "      }\n",
       "    }, 25, root)\n",
       "  }\n",
       "})(window);</script>"
      ],
      "text/plain": [
       ":Overlay\n",
       "   .Tiles.I  :Tiles   [x,y]\n",
       "   .Points.I :Points   [Lng,Lat]   (City,Humidity)"
      ]
     },
     "execution_count": 3,
     "metadata": {
      "application/vnd.holoviews_exec.v0+json": {
       "id": "p1005"
      }
     },
     "output_type": "execute_result"
    }
   ],
   "source": [
    "%%capture --no-display\n",
    "\n",
    "#Configure the map plot:\n",
    "map_plot_city = city_data_df.hvplot.points(\"Lng\",\"Lat\", geo = True, tiles=\"OSM\", \\\n",
    "                                        frame_width=700, frame_height=500, \\\n",
    "                                        size=\"Humidity\", scale=0.5, color=\"City\")\n",
    "\n",
    "#Display the map:\n",
    "map_plot_city"
   ]
  },
  {
   "cell_type": "markdown",
   "metadata": {},
   "source": [
    "### Step 2: Narrow down the `city_data_df` DataFrame to find your ideal weather condition:"
   ]
  },
  {
   "cell_type": "code",
   "execution_count": null,
   "metadata": {},
   "outputs": [
    {
     "data": {
      "text/html": [
       "<div>\n",
       "<style scoped>\n",
       "    .dataframe tbody tr th:only-of-type {\n",
       "        vertical-align: middle;\n",
       "    }\n",
       "\n",
       "    .dataframe tbody tr th {\n",
       "        vertical-align: top;\n",
       "    }\n",
       "\n",
       "    .dataframe thead th {\n",
       "        text-align: right;\n",
       "    }\n",
       "</style>\n",
       "<table border=\"1\" class=\"dataframe\">\n",
       "  <thead>\n",
       "    <tr style=\"text-align: right;\">\n",
       "      <th></th>\n",
       "      <th>City_ID</th>\n",
       "      <th>City</th>\n",
       "      <th>Lat</th>\n",
       "      <th>Lng</th>\n",
       "      <th>Max Temp</th>\n",
       "      <th>Humidity</th>\n",
       "      <th>Cloudiness</th>\n",
       "      <th>Wind Speed</th>\n",
       "      <th>Country</th>\n",
       "      <th>Date</th>\n",
       "    </tr>\n",
       "  </thead>\n",
       "  <tbody>\n",
       "  </tbody>\n",
       "</table>\n",
       "</div>"
      ],
      "text/plain": [
       "Empty DataFrame\n",
       "Columns: [City_ID, City, Lat, Lng, Max Temp, Humidity, Cloudiness, Wind Speed, Country, Date]\n",
       "Index: []"
      ]
     },
     "execution_count": 4,
     "metadata": {},
     "output_type": "execute_result"
    }
   ],
   "source": [
    "#Narrow down cities that fit criteria and drop any results with null values:\n",
    "new_data_df = pd.DataFrame(city_data_df, columns = [\"City\", \"Max Temp\", \"Wind Speed\", \"Cloudiness\"])\n",
    "\n",
    "max_temp = (new_data_df[\"Max Temp\"] <= 27) & (new_data_df[\"Max Temp\"] > 21)\n",
    "wind_speed = (new_data_df[\"Wind Speed\"] < 10)\n",
    "cloudiness = (new_data_df[\"Cloudiness\"] == 0)\n",
    "\n",
    "#Drop any rows with null values:\n",
    "new_data_df[max_temp & wind_speed & cloudiness]\n",
    "\n",
    "new_data_df = (city_data_df.dropna())\n",
    "\n",
    "#Display sample data:\n",
    "new_data_df"
   ]
  },
  {
   "cell_type": "markdown",
   "metadata": {},
   "source": [
    "### Step 3: Create a new DataFrame called `hotel_df`."
   ]
  },
  {
   "cell_type": "code",
   "execution_count": 3,
   "metadata": {},
   "outputs": [
    {
     "ename": "NameError",
     "evalue": "name 'pd' is not defined",
     "output_type": "error",
     "traceback": [
      "\u001b[0;31m---------------------------------------------------------------------------\u001b[0m",
      "\u001b[0;31mNameError\u001b[0m                                 Traceback (most recent call last)",
      "Cell \u001b[0;32mIn[3], line 2\u001b[0m\n\u001b[1;32m      1\u001b[0m \u001b[39m#Use the Pandas copy function to create DataFrame called hotel_df to store the city, country, coordinates, and humidity:\u001b[39;00m\n\u001b[0;32m----> 2\u001b[0m hotel_df \u001b[39m=\u001b[39m pd\u001b[39m.\u001b[39mDataFrame(city_data_df, columns\u001b[39m=\u001b[39m[\u001b[39m\"\u001b[39m\u001b[39mCity\u001b[39m\u001b[39m\"\u001b[39m, \u001b[39m\"\u001b[39m\u001b[39mCountry\u001b[39m\u001b[39m\"\u001b[39m, \u001b[39m\"\u001b[39m\u001b[39mLat\u001b[39m\u001b[39m\"\u001b[39m, \u001b[39m\"\u001b[39m\u001b[39mLng\u001b[39m\u001b[39m\"\u001b[39m, \u001b[39m\"\u001b[39m\u001b[39mHumidity\u001b[39m\u001b[39m\"\u001b[39m])\n\u001b[1;32m      4\u001b[0m \u001b[39m#Add an empty column, \"Hotel Name,\" to the DataFrame so you can store the hotel found using the Geoapify API:\u001b[39;00m\n\u001b[1;32m      5\u001b[0m hotel_df[\u001b[39m\"\u001b[39m\u001b[39mHotel Name\u001b[39m\u001b[39m\"\u001b[39m] \u001b[39m=\u001b[39m \u001b[39m\"\u001b[39m\u001b[39m\"\u001b[39m\n",
      "\u001b[0;31mNameError\u001b[0m: name 'pd' is not defined"
     ]
    }
   ],
   "source": [
    "#Use the Pandas copy function to create DataFrame called hotel_df to store the city, country, coordinates, and humidity:\n",
    "hotel_df = pd.DataFrame(city_data_df, columns=[\"City\", \"Country\", \"Lat\", \"Lng\", \"Humidity\"])\n",
    "\n",
    "#Add an empty column, \"Hotel Name,\" to the DataFrame so you can store the hotel found using the Geoapify API:\n",
    "hotel_df[\"Hotel Name\"] = \"\"\n",
    "\n",
    "#Display sample data\n",
    "hotel_df"
   ]
  },
  {
   "cell_type": "markdown",
   "metadata": {},
   "source": [
    "### Step 4: For each city, use the Geoapify API to find the first hotel located within 10,000 metres of your coordinates."
   ]
  },
  {
   "cell_type": "code",
   "execution_count": null,
   "metadata": {},
   "outputs": [
    {
     "name": "stdout",
     "output_type": "stream",
     "text": [
      "Starting hotel search\n"
     ]
    },
    {
     "data": {
      "text/html": [
       "<div>\n",
       "<style scoped>\n",
       "    .dataframe tbody tr th:only-of-type {\n",
       "        vertical-align: middle;\n",
       "    }\n",
       "\n",
       "    .dataframe tbody tr th {\n",
       "        vertical-align: top;\n",
       "    }\n",
       "\n",
       "    .dataframe thead th {\n",
       "        text-align: right;\n",
       "    }\n",
       "</style>\n",
       "<table border=\"1\" class=\"dataframe\">\n",
       "  <thead>\n",
       "    <tr style=\"text-align: right;\">\n",
       "      <th></th>\n",
       "      <th>City</th>\n",
       "      <th>Country</th>\n",
       "      <th>Lat</th>\n",
       "      <th>Lng</th>\n",
       "      <th>Humidity</th>\n",
       "      <th>Hotel Name</th>\n",
       "    </tr>\n",
       "  </thead>\n",
       "  <tbody>\n",
       "  </tbody>\n",
       "</table>\n",
       "</div>"
      ],
      "text/plain": [
       "Empty DataFrame\n",
       "Columns: [City, Country, Lat, Lng, Humidity, Hotel Name]\n",
       "Index: []"
      ]
     },
     "execution_count": 6,
     "metadata": {},
     "output_type": "execute_result"
    }
   ],
   "source": [
    "#Set parameters to search for a hotel:\n",
    "radius = 10000\n",
    "limit = 5\n",
    "params = {\n",
    "    \"limit\":limit,\n",
    "    \"apiKey\":geoapify_key \n",
    "}\n",
    "\n",
    "#Print a message to follow up the hotel search:\n",
    "print(\"Starting hotel search\")\n",
    "\n",
    "#Iterate through the hotel_df DataFrame:\n",
    "for index, row in hotel_df.iterrows():\n",
    "    # get latitude, longitude from the DataFrame:\n",
    "    longitude = hotel_df.loc[index, \"Lng\"]\n",
    "    latitude = hotel_df.loc[index, \"Lat\"]\n",
    "    \n",
    "    \n",
    "    #Add filter and bias parameters with the current city's latitude and longitude to the params dictionary:\n",
    "    params[\"filter\"] = f'circle:{longitude},{latitude},{radius}'\n",
    "    params[\"bias\"] = f'proximity:{longitude},{latitude}'\n",
    "    #params[\"categories\"] = f'accommodation.hotel'\n",
    "\n",
    "    #Get base URL:\n",
    "    base_url = \"https://api.geoapify.com/v2/places\"\n",
    "\n",
    "\n",
    "    #Make and API request using the params dictionaty:\n",
    "    name_address = requests.get(base_url, params=params)\n",
    "    \n",
    "    #Convert the API response to JSON format:\n",
    "    name_address = name_address.json()\n",
    "    \n",
    "    #Grab the first hotel from the results and store the name in the hotel_df DataFrame\n",
    "    try:\n",
    "        hotel_df.loc[index, \"Hotel Name\"] = name_address[\"features\"][0][\"properties\"][\"name\"]\n",
    "    except (KeyError, IndexError):\n",
    "        # If no hotel is found, set the hotel name as \"No hotel found\".\n",
    "        hotel_df.loc[index, \"Hotel Name\"] = \"No hotel found\"\n",
    "        \n",
    "    # Log the search results\n",
    "    print(f\"{hotel_df.loc[index, 'City']} - nearest hotel: {hotel_df.loc[index, 'Hotel Name']}\")\n",
    "\n",
    "# Display sample data\n",
    "hotel_df"
   ]
  },
  {
   "cell_type": "markdown",
   "metadata": {},
   "source": [
    "### Step 5: Add the hotel name and the country as additional information in the hover message for each city in the map."
   ]
  },
  {
   "cell_type": "code",
   "execution_count": null,
   "metadata": {},
   "outputs": [
    {
     "data": {},
     "metadata": {},
     "output_type": "display_data"
    },
    {
     "data": {
      "application/vnd.holoviews_exec.v0+json": "",
      "text/html": [
       "<div id='p1177'>\n",
       "  <div id=\"c37702cf-e525-46a7-8b38-f94b8e7f0c87\" data-root-id=\"p1177\" style=\"display: contents;\"></div>\n",
       "</div>\n",
       "<script type=\"application/javascript\">(function(root) {\n",
       "  var docs_json = {\"8d4cb76c-1345-4131-8dbf-d146676ef406\":{\"version\":\"3.1.1\",\"title\":\"Bokeh Application\",\"defs\":[{\"type\":\"model\",\"name\":\"ReactiveHTML1\"},{\"type\":\"model\",\"name\":\"FlexBox1\",\"properties\":[{\"name\":\"align_content\",\"kind\":\"Any\",\"default\":\"flex-start\"},{\"name\":\"align_items\",\"kind\":\"Any\",\"default\":\"flex-start\"},{\"name\":\"flex_direction\",\"kind\":\"Any\",\"default\":\"row\"},{\"name\":\"flex_wrap\",\"kind\":\"Any\",\"default\":\"wrap\"},{\"name\":\"justify_content\",\"kind\":\"Any\",\"default\":\"flex-start\"}]},{\"type\":\"model\",\"name\":\"FloatPanel1\",\"properties\":[{\"name\":\"config\",\"kind\":\"Any\",\"default\":{\"type\":\"map\"}},{\"name\":\"contained\",\"kind\":\"Any\",\"default\":true},{\"name\":\"position\",\"kind\":\"Any\",\"default\":\"right-top\"},{\"name\":\"offsetx\",\"kind\":\"Any\",\"default\":null},{\"name\":\"offsety\",\"kind\":\"Any\",\"default\":null},{\"name\":\"theme\",\"kind\":\"Any\",\"default\":\"primary\"},{\"name\":\"status\",\"kind\":\"Any\",\"default\":\"normalized\"}]},{\"type\":\"model\",\"name\":\"GridStack1\",\"properties\":[{\"name\":\"mode\",\"kind\":\"Any\",\"default\":\"warn\"},{\"name\":\"ncols\",\"kind\":\"Any\",\"default\":null},{\"name\":\"nrows\",\"kind\":\"Any\",\"default\":null},{\"name\":\"allow_resize\",\"kind\":\"Any\",\"default\":true},{\"name\":\"allow_drag\",\"kind\":\"Any\",\"default\":true},{\"name\":\"state\",\"kind\":\"Any\",\"default\":[]}]},{\"type\":\"model\",\"name\":\"drag1\",\"properties\":[{\"name\":\"slider_width\",\"kind\":\"Any\",\"default\":5},{\"name\":\"slider_color\",\"kind\":\"Any\",\"default\":\"black\"},{\"name\":\"value\",\"kind\":\"Any\",\"default\":50}]},{\"type\":\"model\",\"name\":\"click1\",\"properties\":[{\"name\":\"terminal_output\",\"kind\":\"Any\",\"default\":\"\"},{\"name\":\"debug_name\",\"kind\":\"Any\",\"default\":\"\"},{\"name\":\"clears\",\"kind\":\"Any\",\"default\":0}]},{\"type\":\"model\",\"name\":\"FastWrapper1\",\"properties\":[{\"name\":\"object\",\"kind\":\"Any\",\"default\":null},{\"name\":\"style\",\"kind\":\"Any\",\"default\":null}]},{\"type\":\"model\",\"name\":\"NotificationAreaBase1\",\"properties\":[{\"name\":\"position\",\"kind\":\"Any\",\"default\":\"bottom-right\"},{\"name\":\"_clear\",\"kind\":\"Any\",\"default\":0}]},{\"type\":\"model\",\"name\":\"NotificationArea1\",\"properties\":[{\"name\":\"notifications\",\"kind\":\"Any\",\"default\":[]},{\"name\":\"position\",\"kind\":\"Any\",\"default\":\"bottom-right\"},{\"name\":\"_clear\",\"kind\":\"Any\",\"default\":0},{\"name\":\"types\",\"kind\":\"Any\",\"default\":[{\"type\":\"map\",\"entries\":[[\"type\",\"warning\"],[\"background\",\"#ffc107\"],[\"icon\",{\"type\":\"map\",\"entries\":[[\"className\",\"fas fa-exclamation-triangle\"],[\"tagName\",\"i\"],[\"color\",\"white\"]]}]]},{\"type\":\"map\",\"entries\":[[\"type\",\"info\"],[\"background\",\"#007bff\"],[\"icon\",{\"type\":\"map\",\"entries\":[[\"className\",\"fas fa-info-circle\"],[\"tagName\",\"i\"],[\"color\",\"white\"]]}]]}]}]},{\"type\":\"model\",\"name\":\"Notification\",\"properties\":[{\"name\":\"background\",\"kind\":\"Any\",\"default\":null},{\"name\":\"duration\",\"kind\":\"Any\",\"default\":3000},{\"name\":\"icon\",\"kind\":\"Any\",\"default\":null},{\"name\":\"message\",\"kind\":\"Any\",\"default\":\"\"},{\"name\":\"notification_type\",\"kind\":\"Any\",\"default\":null},{\"name\":\"_destroyed\",\"kind\":\"Any\",\"default\":false}]},{\"type\":\"model\",\"name\":\"TemplateActions1\",\"properties\":[{\"name\":\"open_modal\",\"kind\":\"Any\",\"default\":0},{\"name\":\"close_modal\",\"kind\":\"Any\",\"default\":0}]},{\"type\":\"model\",\"name\":\"BootstrapTemplateActions1\",\"properties\":[{\"name\":\"open_modal\",\"kind\":\"Any\",\"default\":0},{\"name\":\"close_modal\",\"kind\":\"Any\",\"default\":0}]},{\"type\":\"model\",\"name\":\"MaterialTemplateActions1\",\"properties\":[{\"name\":\"open_modal\",\"kind\":\"Any\",\"default\":0},{\"name\":\"close_modal\",\"kind\":\"Any\",\"default\":0}]}],\"roots\":[{\"type\":\"object\",\"name\":\"Row\",\"id\":\"p1177\",\"attributes\":{\"name\":\"Row01713\",\"tags\":[\"embedded\"],\"stylesheets\":[\"\\n:host(.pn-loading.pn-arc):before, .pn-loading.pn-arc:before {\\n  background-image: url(\\\"data:image/svg+xml;base64,PHN2ZyB4bWxucz0iaHR0cDovL3d3dy53My5vcmcvMjAwMC9zdmciIHN0eWxlPSJtYXJnaW46IGF1dG87IGJhY2tncm91bmQ6IG5vbmU7IGRpc3BsYXk6IGJsb2NrOyBzaGFwZS1yZW5kZXJpbmc6IGF1dG87IiB2aWV3Qm94PSIwIDAgMTAwIDEwMCIgcHJlc2VydmVBc3BlY3RSYXRpbz0ieE1pZFlNaWQiPiAgPGNpcmNsZSBjeD0iNTAiIGN5PSI1MCIgZmlsbD0ibm9uZSIgc3Ryb2tlPSIjYzNjM2MzIiBzdHJva2Utd2lkdGg9IjEwIiByPSIzNSIgc3Ryb2tlLWRhc2hhcnJheT0iMTY0LjkzMzYxNDMxMzQ2NDE1IDU2Ljk3Nzg3MTQzNzgyMTM4Ij4gICAgPGFuaW1hdGVUcmFuc2Zvcm0gYXR0cmlidXRlTmFtZT0idHJhbnNmb3JtIiB0eXBlPSJyb3RhdGUiIHJlcGVhdENvdW50PSJpbmRlZmluaXRlIiBkdXI9IjFzIiB2YWx1ZXM9IjAgNTAgNTA7MzYwIDUwIDUwIiBrZXlUaW1lcz0iMDsxIj48L2FuaW1hdGVUcmFuc2Zvcm0+ICA8L2NpcmNsZT48L3N2Zz4=\\\");\\n  background-size: auto calc(min(50%, 400px));\\n}\",{\"type\":\"object\",\"name\":\"ImportedStyleSheet\",\"id\":\"p1180\",\"attributes\":{\"url\":\"https://cdn.holoviz.org/panel/1.1.0/dist/css/loading.css\"}},{\"type\":\"object\",\"name\":\"ImportedStyleSheet\",\"id\":\"p1304\",\"attributes\":{\"url\":\"https://cdn.holoviz.org/panel/1.1.0/dist/css/listpanel.css\"}},{\"type\":\"object\",\"name\":\"ImportedStyleSheet\",\"id\":\"p1178\",\"attributes\":{\"url\":\"https://cdn.holoviz.org/panel/1.1.0/dist/bundled/theme/default.css\"}},{\"type\":\"object\",\"name\":\"ImportedStyleSheet\",\"id\":\"p1179\",\"attributes\":{\"url\":\"https://cdn.holoviz.org/panel/1.1.0/dist/bundled/theme/native.css\"}}],\"margin\":0,\"sizing_mode\":\"stretch_width\",\"align\":\"start\",\"children\":[{\"type\":\"object\",\"name\":\"Spacer\",\"id\":\"p1181\",\"attributes\":{\"name\":\"HSpacer01723\",\"stylesheets\":[\"\\n:host(.pn-loading.pn-arc):before, .pn-loading.pn-arc:before {\\n  background-image: url(\\\"data:image/svg+xml;base64,PHN2ZyB4bWxucz0iaHR0cDovL3d3dy53My5vcmcvMjAwMC9zdmciIHN0eWxlPSJtYXJnaW46IGF1dG87IGJhY2tncm91bmQ6IG5vbmU7IGRpc3BsYXk6IGJsb2NrOyBzaGFwZS1yZW5kZXJpbmc6IGF1dG87IiB2aWV3Qm94PSIwIDAgMTAwIDEwMCIgcHJlc2VydmVBc3BlY3RSYXRpbz0ieE1pZFlNaWQiPiAgPGNpcmNsZSBjeD0iNTAiIGN5PSI1MCIgZmlsbD0ibm9uZSIgc3Ryb2tlPSIjYzNjM2MzIiBzdHJva2Utd2lkdGg9IjEwIiByPSIzNSIgc3Ryb2tlLWRhc2hhcnJheT0iMTY0LjkzMzYxNDMxMzQ2NDE1IDU2Ljk3Nzg3MTQzNzgyMTM4Ij4gICAgPGFuaW1hdGVUcmFuc2Zvcm0gYXR0cmlidXRlTmFtZT0idHJhbnNmb3JtIiB0eXBlPSJyb3RhdGUiIHJlcGVhdENvdW50PSJpbmRlZmluaXRlIiBkdXI9IjFzIiB2YWx1ZXM9IjAgNTAgNTA7MzYwIDUwIDUwIiBrZXlUaW1lcz0iMDsxIj48L2FuaW1hdGVUcmFuc2Zvcm0+ICA8L2NpcmNsZT48L3N2Zz4=\\\");\\n  background-size: auto calc(min(50%, 400px));\\n}\",{\"id\":\"p1180\"},{\"id\":\"p1178\"},{\"id\":\"p1179\"}],\"margin\":0,\"sizing_mode\":\"stretch_width\",\"align\":\"start\"}},{\"type\":\"object\",\"name\":\"Figure\",\"id\":\"p1195\",\"attributes\":{\"width\":null,\"height\":null,\"margin\":[5,10],\"sizing_mode\":\"fixed\",\"align\":\"start\",\"x_range\":{\"type\":\"object\",\"name\":\"Range1d\",\"id\":\"p1188\",\"attributes\":{\"tags\":[[[\"Lng\",\"Lng\",null]]],\"start\":3.0,\"min_interval\":5}},\"y_range\":{\"type\":\"object\",\"name\":\"Range1d\",\"id\":\"p1189\",\"attributes\":{\"tags\":[[[\"Lat\",\"Lat\",null]]],\"start\":3.0,\"min_interval\":5}},\"x_scale\":{\"type\":\"object\",\"name\":\"LinearScale\",\"id\":\"p1207\"},\"y_scale\":{\"type\":\"object\",\"name\":\"LinearScale\",\"id\":\"p1209\"},\"title\":{\"type\":\"object\",\"name\":\"Title\",\"id\":\"p1198\",\"attributes\":{\"text_color\":\"black\",\"text_font_size\":\"12pt\"}},\"renderers\":[{\"type\":\"object\",\"name\":\"TileRenderer\",\"id\":\"p1270\",\"attributes\":{\"level\":\"glyph\",\"tile_source\":{\"type\":\"object\",\"name\":\"WMTSTileSource\",\"id\":\"p1265\",\"attributes\":{\"url\":\"https://c.tile.openstreetmap.org/{Z}/{X}/{Y}.png\",\"attribution\":\"&copy; <a href=\\\"https://www.openstreetmap.org/copyright\\\">OpenStreetMap</a> contributors\"}}}},{\"type\":\"object\",\"name\":\"GlyphRenderer\",\"id\":\"p1284\",\"attributes\":{\"data_source\":{\"type\":\"object\",\"name\":\"ColumnDataSource\",\"id\":\"p1272\",\"attributes\":{\"selected\":{\"type\":\"object\",\"name\":\"Selection\",\"id\":\"p1273\",\"attributes\":{\"indices\":[],\"line_indices\":[]}},\"selection_policy\":{\"type\":\"object\",\"name\":\"UnionRenderers\",\"id\":\"p1274\"},\"data\":{\"type\":\"map\",\"entries\":[[\"Lng\",{\"type\":\"ndarray\",\"array\":{\"type\":\"bytes\",\"data\":\"\"},\"shape\":[0],\"dtype\":\"float64\",\"order\":\"little\"}],[\"Lat\",{\"type\":\"ndarray\",\"array\":{\"type\":\"bytes\",\"data\":\"\"},\"shape\":[0],\"dtype\":\"float64\",\"order\":\"little\"}],[\"City\",{\"type\":\"ndarray\",\"array\":[],\"shape\":[0],\"dtype\":\"object\",\"order\":\"little\"}],[\"Humidity\",{\"type\":\"ndarray\",\"array\":{\"type\":\"bytes\",\"data\":\"\"},\"shape\":[0],\"dtype\":\"int32\",\"order\":\"little\"}],[\"Hotel_Name\",{\"type\":\"ndarray\",\"array\":[],\"shape\":[0],\"dtype\":\"object\",\"order\":\"little\"}],[\"Country\",{\"type\":\"ndarray\",\"array\":[],\"shape\":[0],\"dtype\":\"object\",\"order\":\"little\"}],[\"color\",{\"type\":\"ndarray\",\"array\":[],\"shape\":[0],\"dtype\":\"object\",\"order\":\"little\"}],[\"size\",{\"type\":\"ndarray\",\"array\":{\"type\":\"bytes\",\"data\":\"\"},\"shape\":[0],\"dtype\":\"float64\",\"order\":\"little\"}]]}}},\"view\":{\"type\":\"object\",\"name\":\"CDSView\",\"id\":\"p1285\",\"attributes\":{\"filter\":{\"type\":\"object\",\"name\":\"AllIndices\",\"id\":\"p1286\"}}},\"glyph\":{\"type\":\"object\",\"name\":\"Scatter\",\"id\":\"p1279\",\"attributes\":{\"tags\":[\"apply_ranges\"],\"x\":{\"type\":\"field\",\"field\":\"Lng\"},\"y\":{\"type\":\"field\",\"field\":\"Lat\"},\"size\":{\"type\":\"field\",\"field\":\"size\"},\"line_color\":{\"type\":\"field\",\"field\":\"color\"},\"fill_color\":{\"type\":\"field\",\"field\":\"color\"},\"hatch_color\":{\"type\":\"field\",\"field\":\"color\"}}},\"selection_glyph\":{\"type\":\"object\",\"name\":\"Scatter\",\"id\":\"p1281\",\"attributes\":{\"tags\":[\"apply_ranges\"],\"x\":{\"type\":\"field\",\"field\":\"Lng\"},\"y\":{\"type\":\"field\",\"field\":\"Lat\"},\"size\":{\"type\":\"field\",\"field\":\"size\"},\"line_color\":{\"type\":\"field\",\"field\":\"color\"},\"fill_color\":{\"type\":\"field\",\"field\":\"color\"},\"hatch_color\":{\"type\":\"field\",\"field\":\"color\"}}},\"nonselection_glyph\":{\"type\":\"object\",\"name\":\"Scatter\",\"id\":\"p1280\",\"attributes\":{\"tags\":[\"apply_ranges\"],\"x\":{\"type\":\"field\",\"field\":\"Lng\"},\"y\":{\"type\":\"field\",\"field\":\"Lat\"},\"size\":{\"type\":\"field\",\"field\":\"size\"},\"line_color\":{\"type\":\"field\",\"field\":\"color\"},\"line_alpha\":{\"type\":\"value\",\"value\":0.1},\"fill_color\":{\"type\":\"field\",\"field\":\"color\"},\"fill_alpha\":{\"type\":\"value\",\"value\":0.1},\"hatch_color\":{\"type\":\"field\",\"field\":\"color\"},\"hatch_alpha\":{\"type\":\"value\",\"value\":0.1}}},\"hover_glyph\":{\"type\":\"object\",\"name\":\"Scatter\",\"id\":\"p1282\",\"attributes\":{\"tags\":[\"apply_ranges\"],\"x\":{\"type\":\"field\",\"field\":\"Lng\"},\"y\":{\"type\":\"field\",\"field\":\"Lat\"},\"size\":{\"type\":\"field\",\"field\":\"size\"},\"line_color\":{\"type\":\"field\",\"field\":\"color\"},\"fill_color\":{\"type\":\"field\",\"field\":\"color\"},\"hatch_color\":{\"type\":\"field\",\"field\":\"color\"}}},\"muted_glyph\":{\"type\":\"object\",\"name\":\"Scatter\",\"id\":\"p1283\",\"attributes\":{\"tags\":[\"apply_ranges\"],\"x\":{\"type\":\"field\",\"field\":\"Lng\"},\"y\":{\"type\":\"field\",\"field\":\"Lat\"},\"size\":{\"type\":\"field\",\"field\":\"size\"},\"line_color\":{\"type\":\"field\",\"field\":\"color\"},\"line_alpha\":{\"type\":\"value\",\"value\":0.2},\"fill_color\":{\"type\":\"field\",\"field\":\"color\"},\"fill_alpha\":{\"type\":\"value\",\"value\":0.2},\"hatch_color\":{\"type\":\"field\",\"field\":\"color\"},\"hatch_alpha\":{\"type\":\"value\",\"value\":0.2}}}}}],\"toolbar\":{\"type\":\"object\",\"name\":\"Toolbar\",\"id\":\"p1203\",\"attributes\":{\"tools\":[{\"type\":\"object\",\"name\":\"HoverTool\",\"id\":\"p1194\",\"attributes\":{\"tags\":[\"hv_created\"],\"renderers\":[{\"id\":\"p1284\"}],\"tooltips\":[[\"Lng\",\"$x{custom}\"],[\"Lat\",\"$y{custom}\"],[\"City\",\"@{City}\"],[\"Humidity\",\"@{Humidity}\"],[\"Hotel Name\",\"@{Hotel_Name}\"],[\"Country\",\"@{Country}\"]],\"formatters\":{\"type\":\"map\",\"entries\":[[\"$x\",{\"type\":\"object\",\"name\":\"CustomJSHover\",\"id\":\"p1288\",\"attributes\":{\"code\":\"\\n        const projections = Bokeh.require(\\\"core/util/projections\\\");\\n        const {snap_x, snap_y} = special_vars\\n        const coords = projections.wgs84_mercator.invert(snap_x, snap_y)\\n        return \\\"\\\" + (coords[0]).toFixed(4)\\n    \"}}],[\"$y\",{\"type\":\"object\",\"name\":\"CustomJSHover\",\"id\":\"p1289\",\"attributes\":{\"code\":\"\\n        const projections = Bokeh.require(\\\"core/util/projections\\\");\\n        const {snap_x, snap_y} = special_vars\\n        const coords = projections.wgs84_mercator.invert(snap_x, snap_y)\\n        return \\\"\\\" + (coords[1]).toFixed(4)\\n    \"}}]]}}},{\"type\":\"object\",\"name\":\"SaveTool\",\"id\":\"p1225\"},{\"type\":\"object\",\"name\":\"PanTool\",\"id\":\"p1226\"},{\"type\":\"object\",\"name\":\"WheelZoomTool\",\"id\":\"p1227\",\"attributes\":{\"zoom_on_axis\":false}},{\"type\":\"object\",\"name\":\"BoxZoomTool\",\"id\":\"p1228\",\"attributes\":{\"overlay\":{\"type\":\"object\",\"name\":\"BoxAnnotation\",\"id\":\"p1229\",\"attributes\":{\"syncable\":false,\"level\":\"overlay\",\"visible\":false,\"left_units\":\"canvas\",\"right_units\":\"canvas\",\"bottom_units\":\"canvas\",\"top_units\":\"canvas\",\"line_color\":\"black\",\"line_alpha\":1.0,\"line_width\":2,\"line_dash\":[4,4],\"fill_color\":\"lightgrey\",\"fill_alpha\":0.5}},\"match_aspect\":true}},{\"type\":\"object\",\"name\":\"ResetTool\",\"id\":\"p1230\"}],\"active_drag\":{\"id\":\"p1226\"}}},\"left\":[{\"type\":\"object\",\"name\":\"LinearAxis\",\"id\":\"p1218\",\"attributes\":{\"ticker\":{\"type\":\"object\",\"name\":\"MercatorTicker\",\"id\":\"p1241\",\"attributes\":{\"mantissas\":[1,2,5],\"dimension\":\"lat\"}},\"formatter\":{\"type\":\"object\",\"name\":\"MercatorTickFormatter\",\"id\":\"p1242\",\"attributes\":{\"dimension\":\"lat\"}},\"axis_label\":\"y\",\"major_label_policy\":{\"type\":\"object\",\"name\":\"AllLabels\",\"id\":\"p1219\"}}}],\"below\":[{\"type\":\"object\",\"name\":\"LinearAxis\",\"id\":\"p1211\",\"attributes\":{\"ticker\":{\"type\":\"object\",\"name\":\"MercatorTicker\",\"id\":\"p1239\",\"attributes\":{\"mantissas\":[1,2,5],\"dimension\":\"lon\"}},\"formatter\":{\"type\":\"object\",\"name\":\"MercatorTickFormatter\",\"id\":\"p1240\",\"attributes\":{\"dimension\":\"lon\"}},\"axis_label\":\"x\",\"major_label_policy\":{\"type\":\"object\",\"name\":\"AllLabels\",\"id\":\"p1212\"}}}],\"center\":[{\"type\":\"object\",\"name\":\"Grid\",\"id\":\"p1217\",\"attributes\":{\"axis\":{\"id\":\"p1211\"},\"grid_line_color\":null}},{\"type\":\"object\",\"name\":\"Grid\",\"id\":\"p1224\",\"attributes\":{\"dimension\":1,\"axis\":{\"id\":\"p1218\"},\"grid_line_color\":null}}],\"frame_width\":700,\"frame_height\":500,\"min_border_top\":10,\"min_border_bottom\":10,\"min_border_left\":10,\"min_border_right\":10,\"output_backend\":\"webgl\",\"match_aspect\":true}},{\"type\":\"object\",\"name\":\"Spacer\",\"id\":\"p1302\",\"attributes\":{\"name\":\"HSpacer01726\",\"stylesheets\":[\"\\n:host(.pn-loading.pn-arc):before, .pn-loading.pn-arc:before {\\n  background-image: url(\\\"data:image/svg+xml;base64,PHN2ZyB4bWxucz0iaHR0cDovL3d3dy53My5vcmcvMjAwMC9zdmciIHN0eWxlPSJtYXJnaW46IGF1dG87IGJhY2tncm91bmQ6IG5vbmU7IGRpc3BsYXk6IGJsb2NrOyBzaGFwZS1yZW5kZXJpbmc6IGF1dG87IiB2aWV3Qm94PSIwIDAgMTAwIDEwMCIgcHJlc2VydmVBc3BlY3RSYXRpbz0ieE1pZFlNaWQiPiAgPGNpcmNsZSBjeD0iNTAiIGN5PSI1MCIgZmlsbD0ibm9uZSIgc3Ryb2tlPSIjYzNjM2MzIiBzdHJva2Utd2lkdGg9IjEwIiByPSIzNSIgc3Ryb2tlLWRhc2hhcnJheT0iMTY0LjkzMzYxNDMxMzQ2NDE1IDU2Ljk3Nzg3MTQzNzgyMTM4Ij4gICAgPGFuaW1hdGVUcmFuc2Zvcm0gYXR0cmlidXRlTmFtZT0idHJhbnNmb3JtIiB0eXBlPSJyb3RhdGUiIHJlcGVhdENvdW50PSJpbmRlZmluaXRlIiBkdXI9IjFzIiB2YWx1ZXM9IjAgNTAgNTA7MzYwIDUwIDUwIiBrZXlUaW1lcz0iMDsxIj48L2FuaW1hdGVUcmFuc2Zvcm0+ICA8L2NpcmNsZT48L3N2Zz4=\\\");\\n  background-size: auto calc(min(50%, 400px));\\n}\",{\"id\":\"p1180\"},{\"id\":\"p1178\"},{\"id\":\"p1179\"}],\"margin\":0,\"sizing_mode\":\"stretch_width\",\"align\":\"start\"}}]}}],\"callbacks\":{\"type\":\"map\"}}};\n",
       "  var render_items = [{\"docid\":\"8d4cb76c-1345-4131-8dbf-d146676ef406\",\"roots\":{\"p1177\":\"c37702cf-e525-46a7-8b38-f94b8e7f0c87\"},\"root_ids\":[\"p1177\"]}];\n",
       "  var docs = Object.values(docs_json)\n",
       "  if (!docs) {\n",
       "    return\n",
       "  }\n",
       "  const py_version = docs[0].version.replace('rc', '-rc.')\n",
       "  const is_dev = py_version.indexOf(\"+\") !== -1 || py_version.indexOf(\"-\") !== -1\n",
       "  function embed_document(root) {\n",
       "    var Bokeh = get_bokeh(root)\n",
       "    Bokeh.embed.embed_items_notebook(docs_json, render_items);\n",
       "    for (const render_item of render_items) {\n",
       "      for (const root_id of render_item.root_ids) {\n",
       "\tconst id_el = document.getElementById(root_id)\n",
       "\tif (id_el.children.length && (id_el.children[0].className === 'bk-root')) {\n",
       "\t  const root_el = id_el.children[0]\n",
       "\t  root_el.id = root_el.id + '-rendered'\n",
       "\t}\n",
       "      }\n",
       "    }\n",
       "  }\n",
       "  function get_bokeh(root) {\n",
       "    if (root.Bokeh === undefined) {\n",
       "      return null\n",
       "    } else if (root.Bokeh.version !== py_version && !is_dev) {\n",
       "      if (root.Bokeh.versions === undefined || !root.Bokeh.versions.has(py_version)) {\n",
       "\treturn null\n",
       "      }\n",
       "      return root.Bokeh.versions.get(py_version);\n",
       "    } else if (root.Bokeh.version === py_version) {\n",
       "      return root.Bokeh\n",
       "    }\n",
       "    return null\n",
       "  }\n",
       "  function is_loaded(root) {\n",
       "    var Bokeh = get_bokeh(root)\n",
       "    return (Bokeh != null && Bokeh.Panel !== undefined)\n",
       "  }\n",
       "  if (is_loaded(root)) {\n",
       "    embed_document(root);\n",
       "  } else {\n",
       "    var attempts = 0;\n",
       "    var timer = setInterval(function(root) {\n",
       "      if (is_loaded(root)) {\n",
       "        clearInterval(timer);\n",
       "        embed_document(root);\n",
       "      } else if (document.readyState == \"complete\") {\n",
       "        attempts++;\n",
       "        if (attempts > 200) {\n",
       "          clearInterval(timer);\n",
       "\t  var Bokeh = get_bokeh(root)\n",
       "\t  if (Bokeh == null || Bokeh.Panel == null) {\n",
       "            console.warn(\"Panel: ERROR: Unable to run Panel code because Bokeh or Panel library is missing\");\n",
       "\t  } else {\n",
       "\t    console.warn(\"Panel: WARNING: Attempting to render but not all required libraries could be resolved.\")\n",
       "\t    embed_document(root)\n",
       "\t  }\n",
       "        }\n",
       "      }\n",
       "    }, 25, root)\n",
       "  }\n",
       "})(window);</script>"
      ],
      "text/plain": [
       ":Overlay\n",
       "   .Tiles.I  :Tiles   [x,y]\n",
       "   .Points.I :Points   [Lng,Lat]   (City,Humidity,Hotel Name,Country)"
      ]
     },
     "execution_count": 7,
     "metadata": {
      "application/vnd.holoviews_exec.v0+json": {
       "id": "p1177"
      }
     },
     "output_type": "execute_result"
    }
   ],
   "source": [
    "%%capture --no-display\n",
    "\n",
    "#Configure the map plot:\n",
    "map_plot_hotel = hotel_df.hvplot.points(\"Lng\",\"Lat\", geo = True, tiles=\"OSM\", \\\n",
    "                                        frame_width=700, frame_height=500, \\\n",
    "                                        size=\"Humidity\", scale=0.5, color=\"City\", \\\n",
    "                                        hover_cols = [\"Hotel Name\",\"Country\"]\n",
    "                                       )\n",
    "\n",
    "#Display the map:\n",
    "map_plot_hotel"
   ]
  },
  {
   "cell_type": "code",
   "execution_count": null,
   "metadata": {},
   "outputs": [],
   "source": []
  }
 ],
 "metadata": {
  "kernelspec": {
   "display_name": "Python 3 (ipykernel)",
   "language": "python",
   "name": "python3"
  },
  "language_info": {
   "codemirror_mode": {
    "name": "ipython",
    "version": 3
   },
   "file_extension": ".py",
   "mimetype": "text/x-python",
   "name": "python",
   "nbconvert_exporter": "python",
   "pygments_lexer": "ipython3",
   "version": "3.10.8"
  },
  "latex_envs": {
   "LaTeX_envs_menu_present": true,
   "autoclose": false,
   "autocomplete": true,
   "bibliofile": "biblio.bib",
   "cite_by": "apalike",
   "current_citInitial": 1,
   "eqLabelWithNumbers": true,
   "eqNumInitial": 1,
   "hotkeys": {
    "equation": "Ctrl-E",
    "itemize": "Ctrl-I"
   },
   "labels_anchors": false,
   "latex_user_defs": false,
   "report_style_numbering": false,
   "user_envs_cfg": false
  }
 },
 "nbformat": 4,
 "nbformat_minor": 4
}
